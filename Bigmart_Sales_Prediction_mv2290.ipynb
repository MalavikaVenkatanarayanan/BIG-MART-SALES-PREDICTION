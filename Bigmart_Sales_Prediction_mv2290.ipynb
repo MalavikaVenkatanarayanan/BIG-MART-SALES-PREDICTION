{
  "cells": [
    {
      "cell_type": "code",
      "source": [
        "#ML PROJECT SPRING 2022\n",
        "#Author: Malavika Venkatanarayanan (mv2290@nyu.edu)\n",
        "#NETID : mv2290\n",
        "#New York University"
      ],
      "metadata": {
        "id": "evnq1N2I0wMT"
      },
      "execution_count": null,
      "outputs": []
    },
    {
      "cell_type": "code",
      "execution_count": 1,
      "metadata": {
        "id": "GOnZyyQ9aM9q"
      },
      "outputs": [],
      "source": [
        "#Importing necessary libraries\n",
        "import pandas as pd\n",
        "import numpy as np\n",
        "import seaborn as sns\n",
        "import matplotlib.pyplot as plt\n",
        "%matplotlib inline\n",
        "from sklearn.metrics import mean_squared_error,r2_score\n",
        "from sklearn.model_selection import train_test_split\n",
        "from sklearn.linear_model import LinearRegression, Ridge, Lasso \n",
        "from sklearn.tree import DecisionTreeRegressor\n",
        "from sklearn.ensemble import RandomForestRegressor,ExtraTreesRegressor\n",
        "from keras.callbacks import ModelCheckpoint\n",
        "from keras.models import Sequential\n",
        "from keras.layers import Dense, Activation, Flatten\n",
        "import warnings \n",
        "warnings.filterwarnings('ignore')\n",
        "warnings.filterwarnings('ignore', category=DeprecationWarning)\n",
        "from xgboost import XGBRegressor"
      ]
    },
    {
      "cell_type": "code",
      "source": [
        "#Mount Google Drive to access data\n",
        "from google.colab import drive\n",
        "drive.mount('/content/gdrive', force_remount=True)"
      ],
      "metadata": {
        "colab": {
          "base_uri": "https://localhost:8080/"
        },
        "id": "eduqwSvMa958",
        "outputId": "5acef3b1-dc60-438c-8284-266ecfe08536"
      },
      "execution_count": 2,
      "outputs": [
        {
          "output_type": "stream",
          "name": "stdout",
          "text": [
            "Mounted at /content/gdrive\n"
          ]
        }
      ]
    },
    {
      "cell_type": "code",
      "execution_count": 3,
      "metadata": {
        "colab": {
          "base_uri": "https://localhost:8080/"
        },
        "id": "pA5pk75vaM9v",
        "outputId": "b34aaf75-37d3-48e4-d06d-e9797fb50c4f"
      },
      "outputs": [
        {
          "output_type": "execute_result",
          "data": {
            "text/plain": [
              "Index(['Item_Identifier', 'Item_Weight', 'Item_Fat_Content', 'Item_Visibility',\n",
              "       'Item_Type', 'Item_MRP', 'Outlet_Identifier',\n",
              "       'Outlet_Establishment_Year', 'Outlet_Size', 'Outlet_Location_Type',\n",
              "       'Outlet_Type', 'Item_Outlet_Sales'],\n",
              "      dtype='object')"
            ]
          },
          "metadata": {},
          "execution_count": 3
        }
      ],
      "source": [
        "#LOAD DATA\n",
        "data = pd.read_csv('gdrive/MyDrive/Bigmart/Train.csv')\n",
        "# data.head(6)\n",
        "data.columns"
      ]
    },
    {
      "cell_type": "code",
      "execution_count": 4,
      "metadata": {
        "colab": {
          "base_uri": "https://localhost:8080/",
          "height": 300
        },
        "id": "YXXE3o9VaM9x",
        "outputId": "9e3df4ec-6bc5-4f42-d720-6500b7a0856c"
      },
      "outputs": [
        {
          "output_type": "execute_result",
          "data": {
            "text/plain": [
              "       Item_Weight  Item_Visibility     Item_MRP  Outlet_Establishment_Year  \\\n",
              "count  7060.000000      8523.000000  8523.000000                8523.000000   \n",
              "mean     12.857645         0.066132   140.992782                1997.831867   \n",
              "std       4.643456         0.051598    62.275067                   8.371760   \n",
              "min       4.555000         0.000000    31.290000                1985.000000   \n",
              "25%       8.773750         0.026989    93.826500                1987.000000   \n",
              "50%      12.600000         0.053931   143.012800                1999.000000   \n",
              "75%      16.850000         0.094585   185.643700                2004.000000   \n",
              "max      21.350000         0.328391   266.888400                2009.000000   \n",
              "\n",
              "       Item_Outlet_Sales  \n",
              "count        8523.000000  \n",
              "mean         2181.288914  \n",
              "std          1706.499616  \n",
              "min            33.290000  \n",
              "25%           834.247400  \n",
              "50%          1794.331000  \n",
              "75%          3101.296400  \n",
              "max         13086.964800  "
            ],
            "text/html": [
              "\n",
              "  <div id=\"df-b1069c0d-dc4a-4120-bbde-d508780f53a4\">\n",
              "    <div class=\"colab-df-container\">\n",
              "      <div>\n",
              "<style scoped>\n",
              "    .dataframe tbody tr th:only-of-type {\n",
              "        vertical-align: middle;\n",
              "    }\n",
              "\n",
              "    .dataframe tbody tr th {\n",
              "        vertical-align: top;\n",
              "    }\n",
              "\n",
              "    .dataframe thead th {\n",
              "        text-align: right;\n",
              "    }\n",
              "</style>\n",
              "<table border=\"1\" class=\"dataframe\">\n",
              "  <thead>\n",
              "    <tr style=\"text-align: right;\">\n",
              "      <th></th>\n",
              "      <th>Item_Weight</th>\n",
              "      <th>Item_Visibility</th>\n",
              "      <th>Item_MRP</th>\n",
              "      <th>Outlet_Establishment_Year</th>\n",
              "      <th>Item_Outlet_Sales</th>\n",
              "    </tr>\n",
              "  </thead>\n",
              "  <tbody>\n",
              "    <tr>\n",
              "      <th>count</th>\n",
              "      <td>7060.000000</td>\n",
              "      <td>8523.000000</td>\n",
              "      <td>8523.000000</td>\n",
              "      <td>8523.000000</td>\n",
              "      <td>8523.000000</td>\n",
              "    </tr>\n",
              "    <tr>\n",
              "      <th>mean</th>\n",
              "      <td>12.857645</td>\n",
              "      <td>0.066132</td>\n",
              "      <td>140.992782</td>\n",
              "      <td>1997.831867</td>\n",
              "      <td>2181.288914</td>\n",
              "    </tr>\n",
              "    <tr>\n",
              "      <th>std</th>\n",
              "      <td>4.643456</td>\n",
              "      <td>0.051598</td>\n",
              "      <td>62.275067</td>\n",
              "      <td>8.371760</td>\n",
              "      <td>1706.499616</td>\n",
              "    </tr>\n",
              "    <tr>\n",
              "      <th>min</th>\n",
              "      <td>4.555000</td>\n",
              "      <td>0.000000</td>\n",
              "      <td>31.290000</td>\n",
              "      <td>1985.000000</td>\n",
              "      <td>33.290000</td>\n",
              "    </tr>\n",
              "    <tr>\n",
              "      <th>25%</th>\n",
              "      <td>8.773750</td>\n",
              "      <td>0.026989</td>\n",
              "      <td>93.826500</td>\n",
              "      <td>1987.000000</td>\n",
              "      <td>834.247400</td>\n",
              "    </tr>\n",
              "    <tr>\n",
              "      <th>50%</th>\n",
              "      <td>12.600000</td>\n",
              "      <td>0.053931</td>\n",
              "      <td>143.012800</td>\n",
              "      <td>1999.000000</td>\n",
              "      <td>1794.331000</td>\n",
              "    </tr>\n",
              "    <tr>\n",
              "      <th>75%</th>\n",
              "      <td>16.850000</td>\n",
              "      <td>0.094585</td>\n",
              "      <td>185.643700</td>\n",
              "      <td>2004.000000</td>\n",
              "      <td>3101.296400</td>\n",
              "    </tr>\n",
              "    <tr>\n",
              "      <th>max</th>\n",
              "      <td>21.350000</td>\n",
              "      <td>0.328391</td>\n",
              "      <td>266.888400</td>\n",
              "      <td>2009.000000</td>\n",
              "      <td>13086.964800</td>\n",
              "    </tr>\n",
              "  </tbody>\n",
              "</table>\n",
              "</div>\n",
              "      <button class=\"colab-df-convert\" onclick=\"convertToInteractive('df-b1069c0d-dc4a-4120-bbde-d508780f53a4')\"\n",
              "              title=\"Convert this dataframe to an interactive table.\"\n",
              "              style=\"display:none;\">\n",
              "        \n",
              "  <svg xmlns=\"http://www.w3.org/2000/svg\" height=\"24px\"viewBox=\"0 0 24 24\"\n",
              "       width=\"24px\">\n",
              "    <path d=\"M0 0h24v24H0V0z\" fill=\"none\"/>\n",
              "    <path d=\"M18.56 5.44l.94 2.06.94-2.06 2.06-.94-2.06-.94-.94-2.06-.94 2.06-2.06.94zm-11 1L8.5 8.5l.94-2.06 2.06-.94-2.06-.94L8.5 2.5l-.94 2.06-2.06.94zm10 10l.94 2.06.94-2.06 2.06-.94-2.06-.94-.94-2.06-.94 2.06-2.06.94z\"/><path d=\"M17.41 7.96l-1.37-1.37c-.4-.4-.92-.59-1.43-.59-.52 0-1.04.2-1.43.59L10.3 9.45l-7.72 7.72c-.78.78-.78 2.05 0 2.83L4 21.41c.39.39.9.59 1.41.59.51 0 1.02-.2 1.41-.59l7.78-7.78 2.81-2.81c.8-.78.8-2.07 0-2.86zM5.41 20L4 18.59l7.72-7.72 1.47 1.35L5.41 20z\"/>\n",
              "  </svg>\n",
              "      </button>\n",
              "      \n",
              "  <style>\n",
              "    .colab-df-container {\n",
              "      display:flex;\n",
              "      flex-wrap:wrap;\n",
              "      gap: 12px;\n",
              "    }\n",
              "\n",
              "    .colab-df-convert {\n",
              "      background-color: #E8F0FE;\n",
              "      border: none;\n",
              "      border-radius: 50%;\n",
              "      cursor: pointer;\n",
              "      display: none;\n",
              "      fill: #1967D2;\n",
              "      height: 32px;\n",
              "      padding: 0 0 0 0;\n",
              "      width: 32px;\n",
              "    }\n",
              "\n",
              "    .colab-df-convert:hover {\n",
              "      background-color: #E2EBFA;\n",
              "      box-shadow: 0px 1px 2px rgba(60, 64, 67, 0.3), 0px 1px 3px 1px rgba(60, 64, 67, 0.15);\n",
              "      fill: #174EA6;\n",
              "    }\n",
              "\n",
              "    [theme=dark] .colab-df-convert {\n",
              "      background-color: #3B4455;\n",
              "      fill: #D2E3FC;\n",
              "    }\n",
              "\n",
              "    [theme=dark] .colab-df-convert:hover {\n",
              "      background-color: #434B5C;\n",
              "      box-shadow: 0px 1px 3px 1px rgba(0, 0, 0, 0.15);\n",
              "      filter: drop-shadow(0px 1px 2px rgba(0, 0, 0, 0.3));\n",
              "      fill: #FFFFFF;\n",
              "    }\n",
              "  </style>\n",
              "\n",
              "      <script>\n",
              "        const buttonEl =\n",
              "          document.querySelector('#df-b1069c0d-dc4a-4120-bbde-d508780f53a4 button.colab-df-convert');\n",
              "        buttonEl.style.display =\n",
              "          google.colab.kernel.accessAllowed ? 'block' : 'none';\n",
              "\n",
              "        async function convertToInteractive(key) {\n",
              "          const element = document.querySelector('#df-b1069c0d-dc4a-4120-bbde-d508780f53a4');\n",
              "          const dataTable =\n",
              "            await google.colab.kernel.invokeFunction('convertToInteractive',\n",
              "                                                     [key], {});\n",
              "          if (!dataTable) return;\n",
              "\n",
              "          const docLinkHtml = 'Like what you see? Visit the ' +\n",
              "            '<a target=\"_blank\" href=https://colab.research.google.com/notebooks/data_table.ipynb>data table notebook</a>'\n",
              "            + ' to learn more about interactive tables.';\n",
              "          element.innerHTML = '';\n",
              "          dataTable['output_type'] = 'display_data';\n",
              "          await google.colab.output.renderOutput(dataTable, element);\n",
              "          const docLink = document.createElement('div');\n",
              "          docLink.innerHTML = docLinkHtml;\n",
              "          element.appendChild(docLink);\n",
              "        }\n",
              "      </script>\n",
              "    </div>\n",
              "  </div>\n",
              "  "
            ]
          },
          "metadata": {},
          "execution_count": 4
        }
      ],
      "source": [
        "# Data Statistics\n",
        "data.describe()"
      ]
    },
    {
      "cell_type": "code",
      "execution_count": 5,
      "metadata": {
        "colab": {
          "base_uri": "https://localhost:8080/"
        },
        "id": "DLzai6SgaM91",
        "outputId": "fa41a038-6f79-4a17-fc5e-6c2e85ab8be8"
      },
      "outputs": [
        {
          "output_type": "stream",
          "name": "stdout",
          "text": [
            "<class 'pandas.core.frame.DataFrame'>\n",
            "RangeIndex: 8523 entries, 0 to 8522\n",
            "Data columns (total 12 columns):\n",
            " #   Column                     Non-Null Count  Dtype  \n",
            "---  ------                     --------------  -----  \n",
            " 0   Item_Identifier            8523 non-null   object \n",
            " 1   Item_Weight                7060 non-null   float64\n",
            " 2   Item_Fat_Content           8523 non-null   object \n",
            " 3   Item_Visibility            8523 non-null   float64\n",
            " 4   Item_Type                  8523 non-null   object \n",
            " 5   Item_MRP                   8523 non-null   float64\n",
            " 6   Outlet_Identifier          8523 non-null   object \n",
            " 7   Outlet_Establishment_Year  8523 non-null   int64  \n",
            " 8   Outlet_Size                6113 non-null   object \n",
            " 9   Outlet_Location_Type       8523 non-null   object \n",
            " 10  Outlet_Type                8523 non-null   object \n",
            " 11  Item_Outlet_Sales          8523 non-null   float64\n",
            "dtypes: float64(4), int64(1), object(7)\n",
            "memory usage: 799.2+ KB\n"
          ]
        }
      ],
      "source": [
        "#Data Information\n",
        "data.info()"
      ]
    },
    {
      "cell_type": "code",
      "source": [
        "#Find no of unique values in each column\n",
        "data.nunique()"
      ],
      "metadata": {
        "colab": {
          "base_uri": "https://localhost:8080/"
        },
        "id": "Ci0FhLeceOTB",
        "outputId": "b6f6738f-962f-40cc-dbd3-fc3db7a1f6ef"
      },
      "execution_count": 6,
      "outputs": [
        {
          "output_type": "execute_result",
          "data": {
            "text/plain": [
              "Item_Identifier              1559\n",
              "Item_Weight                   415\n",
              "Item_Fat_Content                5\n",
              "Item_Visibility              7880\n",
              "Item_Type                      16\n",
              "Item_MRP                     5938\n",
              "Outlet_Identifier              10\n",
              "Outlet_Establishment_Year       9\n",
              "Outlet_Size                     3\n",
              "Outlet_Location_Type            3\n",
              "Outlet_Type                     4\n",
              "Item_Outlet_Sales            3493\n",
              "dtype: int64"
            ]
          },
          "metadata": {},
          "execution_count": 6
        }
      ]
    },
    {
      "cell_type": "markdown",
      "metadata": {
        "id": "3WpbEbd1aM98"
      },
      "source": [
        "## Preprocessing the dataset"
      ]
    },
    {
      "cell_type": "code",
      "execution_count": 7,
      "metadata": {
        "colab": {
          "base_uri": "https://localhost:8080/"
        },
        "id": "HUcGiZIUaM9_",
        "outputId": "1680d2c9-33e3-41d3-eca1-2d58f105511c"
      },
      "outputs": [
        {
          "output_type": "execute_result",
          "data": {
            "text/plain": [
              "Item_Identifier                 0\n",
              "Item_Weight                  1463\n",
              "Item_Fat_Content                0\n",
              "Item_Visibility                 0\n",
              "Item_Type                       0\n",
              "Item_MRP                        0\n",
              "Outlet_Identifier               0\n",
              "Outlet_Establishment_Year       0\n",
              "Outlet_Size                  2410\n",
              "Outlet_Location_Type            0\n",
              "Outlet_Type                     0\n",
              "Item_Outlet_Sales               0\n",
              "dtype: int64"
            ]
          },
          "metadata": {},
          "execution_count": 7
        }
      ],
      "source": [
        "#Find no of null values in each column\n",
        "data.isnull().sum()"
      ]
    },
    {
      "cell_type": "code",
      "execution_count": 8,
      "metadata": {
        "colab": {
          "base_uri": "https://localhost:8080/"
        },
        "id": "EU7HRMrEaM-A",
        "outputId": "b26112f1-b550-4d29-9154-6ca558523f30"
      },
      "outputs": [
        {
          "output_type": "execute_result",
          "data": {
            "text/plain": [
              "['Item_Identifier',\n",
              " 'Item_Fat_Content',\n",
              " 'Item_Type',\n",
              " 'Outlet_Identifier',\n",
              " 'Outlet_Size',\n",
              " 'Outlet_Location_Type',\n",
              " 'Outlet_Type']"
            ]
          },
          "metadata": {},
          "execution_count": 8
        }
      ],
      "source": [
        "# Collect the columns with categorical data\n",
        "catogorical_columns = []\n",
        "for x in data.dtypes.index:\n",
        "    if data.dtypes[x] == 'object':\n",
        "        catogorical_columns.append(x)\n",
        "catogorical_columns"
      ]
    },
    {
      "cell_type": "code",
      "execution_count": 9,
      "metadata": {
        "colab": {
          "base_uri": "https://localhost:8080/"
        },
        "id": "DaiDaKaZaM-B",
        "outputId": "ec49a08f-dbad-40d9-cf48-75a72d5f26b3"
      },
      "outputs": [
        {
          "output_type": "execute_result",
          "data": {
            "text/plain": [
              "['Item_Fat_Content',\n",
              " 'Item_Type',\n",
              " 'Outlet_Size',\n",
              " 'Outlet_Location_Type',\n",
              " 'Outlet_Type']"
            ]
          },
          "metadata": {},
          "execution_count": 9
        }
      ],
      "source": [
        "#Removing unecessary columns\n",
        "catogorical_columns.remove('Item_Identifier')\n",
        "catogorical_columns.remove('Outlet_Identifier')\n",
        "catogorical_columns"
      ]
    },
    {
      "cell_type": "code",
      "execution_count": 10,
      "metadata": {
        "colab": {
          "base_uri": "https://localhost:8080/"
        },
        "id": "RWInuXuhaM-D",
        "outputId": "6bba624f-c6e8-4ed5-8350-ac6efe31a3ad"
      },
      "outputs": [
        {
          "output_type": "stream",
          "name": "stdout",
          "text": [
            "Item_Fat_Content\n",
            "--------------------------\n",
            "Low Fat    5089\n",
            "Regular    2889\n",
            "LF          316\n",
            "reg         117\n",
            "low fat     112\n",
            "Name: Item_Fat_Content, dtype: int64\n",
            "\n",
            "Item_Type\n",
            "--------------------------\n",
            "Fruits and Vegetables    1232\n",
            "Snack Foods              1200\n",
            "Household                 910\n",
            "Frozen Foods              856\n",
            "Dairy                     682\n",
            "Canned                    649\n",
            "Baking Goods              648\n",
            "Health and Hygiene        520\n",
            "Soft Drinks               445\n",
            "Meat                      425\n",
            "Breads                    251\n",
            "Hard Drinks               214\n",
            "Others                    169\n",
            "Starchy Foods             148\n",
            "Breakfast                 110\n",
            "Seafood                    64\n",
            "Name: Item_Type, dtype: int64\n",
            "\n",
            "Outlet_Size\n",
            "--------------------------\n",
            "Medium    2793\n",
            "Small     2388\n",
            "High       932\n",
            "Name: Outlet_Size, dtype: int64\n",
            "\n",
            "Outlet_Location_Type\n",
            "--------------------------\n",
            "Tier 3    3350\n",
            "Tier 2    2785\n",
            "Tier 1    2388\n",
            "Name: Outlet_Location_Type, dtype: int64\n",
            "\n",
            "Outlet_Type\n",
            "--------------------------\n",
            "Supermarket Type1    5577\n",
            "Grocery Store        1083\n",
            "Supermarket Type3     935\n",
            "Supermarket Type2     928\n",
            "Name: Outlet_Type, dtype: int64\n",
            "\n"
          ]
        }
      ],
      "source": [
        "#Print contents of each catogorical columns\n",
        "for column in catogorical_columns:\n",
        "    print(column)\n",
        "    print(\"--------------------------\")\n",
        "    print(data[column].value_counts())\n",
        "    print()\n",
        "   "
      ]
    },
    {
      "cell_type": "code",
      "source": [
        "data['Item_Weight'].isna().sum()"
      ],
      "metadata": {
        "colab": {
          "base_uri": "https://localhost:8080/"
        },
        "id": "hGgk5ewvTA2d",
        "outputId": "340925c9-dbde-4ff7-e914-4e844b2e0df3"
      },
      "execution_count": 11,
      "outputs": [
        {
          "output_type": "execute_result",
          "data": {
            "text/plain": [
              "1463"
            ]
          },
          "metadata": {},
          "execution_count": 11
        }
      ]
    },
    {
      "cell_type": "code",
      "source": [
        "data['Item_Weight'].fillna(data['Item_Weight'].mean(),inplace=True)"
      ],
      "metadata": {
        "id": "rdjBjvq8SkQV"
      },
      "execution_count": 12,
      "outputs": []
    },
    {
      "cell_type": "code",
      "source": [
        "data['Item_Weight'].isna().sum()"
      ],
      "metadata": {
        "colab": {
          "base_uri": "https://localhost:8080/"
        },
        "id": "0yDuWS2HTMhB",
        "outputId": "ee7591b9-9ebb-4fe1-dd86-d2cd2fbddf1a"
      },
      "execution_count": 13,
      "outputs": [
        {
          "output_type": "execute_result",
          "data": {
            "text/plain": [
              "0"
            ]
          },
          "metadata": {},
          "execution_count": 13
        }
      ]
    },
    {
      "cell_type": "code",
      "source": [
        "data['Outlet_Size'].isna().sum()"
      ],
      "metadata": {
        "colab": {
          "base_uri": "https://localhost:8080/"
        },
        "id": "PzsZy65-TX2o",
        "outputId": "06cc9390-5462-4fe7-da0e-5da5e61bb8c2"
      },
      "execution_count": 14,
      "outputs": [
        {
          "output_type": "execute_result",
          "data": {
            "text/plain": [
              "2410"
            ]
          },
          "metadata": {},
          "execution_count": 14
        }
      ]
    },
    {
      "cell_type": "code",
      "execution_count": 17,
      "metadata": {
        "colab": {
          "base_uri": "https://localhost:8080/",
          "height": 81
        },
        "id": "NPZoW3nNaM-K",
        "outputId": "bc0850d1-fa92-4293-a8f4-0e0458c224f3"
      },
      "outputs": [
        {
          "output_type": "execute_result",
          "data": {
            "text/plain": [
              "Outlet_Type Grocery Store Supermarket Type1 Supermarket Type2  \\\n",
              "Outlet_Size         Small             Small            Medium   \n",
              "\n",
              "Outlet_Type Supermarket Type3  \n",
              "Outlet_Size            Medium  "
            ],
            "text/html": [
              "\n",
              "  <div id=\"df-a7e3fa9a-5ccb-4d85-a46d-f6b0aba4fe66\">\n",
              "    <div class=\"colab-df-container\">\n",
              "      <div>\n",
              "<style scoped>\n",
              "    .dataframe tbody tr th:only-of-type {\n",
              "        vertical-align: middle;\n",
              "    }\n",
              "\n",
              "    .dataframe tbody tr th {\n",
              "        vertical-align: top;\n",
              "    }\n",
              "\n",
              "    .dataframe thead th {\n",
              "        text-align: right;\n",
              "    }\n",
              "</style>\n",
              "<table border=\"1\" class=\"dataframe\">\n",
              "  <thead>\n",
              "    <tr style=\"text-align: right;\">\n",
              "      <th>Outlet_Type</th>\n",
              "      <th>Grocery Store</th>\n",
              "      <th>Supermarket Type1</th>\n",
              "      <th>Supermarket Type2</th>\n",
              "      <th>Supermarket Type3</th>\n",
              "    </tr>\n",
              "  </thead>\n",
              "  <tbody>\n",
              "    <tr>\n",
              "      <th>Outlet_Size</th>\n",
              "      <td>Small</td>\n",
              "      <td>Small</td>\n",
              "      <td>Medium</td>\n",
              "      <td>Medium</td>\n",
              "    </tr>\n",
              "  </tbody>\n",
              "</table>\n",
              "</div>\n",
              "      <button class=\"colab-df-convert\" onclick=\"convertToInteractive('df-a7e3fa9a-5ccb-4d85-a46d-f6b0aba4fe66')\"\n",
              "              title=\"Convert this dataframe to an interactive table.\"\n",
              "              style=\"display:none;\">\n",
              "        \n",
              "  <svg xmlns=\"http://www.w3.org/2000/svg\" height=\"24px\"viewBox=\"0 0 24 24\"\n",
              "       width=\"24px\">\n",
              "    <path d=\"M0 0h24v24H0V0z\" fill=\"none\"/>\n",
              "    <path d=\"M18.56 5.44l.94 2.06.94-2.06 2.06-.94-2.06-.94-.94-2.06-.94 2.06-2.06.94zm-11 1L8.5 8.5l.94-2.06 2.06-.94-2.06-.94L8.5 2.5l-.94 2.06-2.06.94zm10 10l.94 2.06.94-2.06 2.06-.94-2.06-.94-.94-2.06-.94 2.06-2.06.94z\"/><path d=\"M17.41 7.96l-1.37-1.37c-.4-.4-.92-.59-1.43-.59-.52 0-1.04.2-1.43.59L10.3 9.45l-7.72 7.72c-.78.78-.78 2.05 0 2.83L4 21.41c.39.39.9.59 1.41.59.51 0 1.02-.2 1.41-.59l7.78-7.78 2.81-2.81c.8-.78.8-2.07 0-2.86zM5.41 20L4 18.59l7.72-7.72 1.47 1.35L5.41 20z\"/>\n",
              "  </svg>\n",
              "      </button>\n",
              "      \n",
              "  <style>\n",
              "    .colab-df-container {\n",
              "      display:flex;\n",
              "      flex-wrap:wrap;\n",
              "      gap: 12px;\n",
              "    }\n",
              "\n",
              "    .colab-df-convert {\n",
              "      background-color: #E8F0FE;\n",
              "      border: none;\n",
              "      border-radius: 50%;\n",
              "      cursor: pointer;\n",
              "      display: none;\n",
              "      fill: #1967D2;\n",
              "      height: 32px;\n",
              "      padding: 0 0 0 0;\n",
              "      width: 32px;\n",
              "    }\n",
              "\n",
              "    .colab-df-convert:hover {\n",
              "      background-color: #E2EBFA;\n",
              "      box-shadow: 0px 1px 2px rgba(60, 64, 67, 0.3), 0px 1px 3px 1px rgba(60, 64, 67, 0.15);\n",
              "      fill: #174EA6;\n",
              "    }\n",
              "\n",
              "    [theme=dark] .colab-df-convert {\n",
              "      background-color: #3B4455;\n",
              "      fill: #D2E3FC;\n",
              "    }\n",
              "\n",
              "    [theme=dark] .colab-df-convert:hover {\n",
              "      background-color: #434B5C;\n",
              "      box-shadow: 0px 1px 3px 1px rgba(0, 0, 0, 0.15);\n",
              "      filter: drop-shadow(0px 1px 2px rgba(0, 0, 0, 0.3));\n",
              "      fill: #FFFFFF;\n",
              "    }\n",
              "  </style>\n",
              "\n",
              "      <script>\n",
              "        const buttonEl =\n",
              "          document.querySelector('#df-a7e3fa9a-5ccb-4d85-a46d-f6b0aba4fe66 button.colab-df-convert');\n",
              "        buttonEl.style.display =\n",
              "          google.colab.kernel.accessAllowed ? 'block' : 'none';\n",
              "\n",
              "        async function convertToInteractive(key) {\n",
              "          const element = document.querySelector('#df-a7e3fa9a-5ccb-4d85-a46d-f6b0aba4fe66');\n",
              "          const dataTable =\n",
              "            await google.colab.kernel.invokeFunction('convertToInteractive',\n",
              "                                                     [key], {});\n",
              "          if (!dataTable) return;\n",
              "\n",
              "          const docLinkHtml = 'Like what you see? Visit the ' +\n",
              "            '<a target=\"_blank\" href=https://colab.research.google.com/notebooks/data_table.ipynb>data table notebook</a>'\n",
              "            + ' to learn more about interactive tables.';\n",
              "          element.innerHTML = '';\n",
              "          dataTable['output_type'] = 'display_data';\n",
              "          await google.colab.output.renderOutput(dataTable, element);\n",
              "          const docLink = document.createElement('div');\n",
              "          docLink.innerHTML = docLinkHtml;\n",
              "          element.appendChild(docLink);\n",
              "        }\n",
              "      </script>\n",
              "    </div>\n",
              "  </div>\n",
              "  "
            ]
          },
          "metadata": {},
          "execution_count": 17
        }
      ],
      "source": [
        "#fill the missing values in outlet_type with the mode corresponding to each outlet size\n",
        "size_modes = data.pivot_table(values='Outlet_Size', columns='Outlet_Type', aggfunc=(lambda x: x.mode()[0]))\n",
        "size_modes"
      ]
    },
    {
      "cell_type": "code",
      "execution_count": 18,
      "metadata": {
        "id": "Sfb_S7iaaM-L"
      },
      "outputs": [],
      "source": [
        "#Fill in the missing values with the mode\n",
        "missing_rows = data['Outlet_Size'].isnull()\n",
        "data.loc[missing_rows, 'Outlet_Size'] = data.loc[missing_rows, 'Outlet_Type'].apply(lambda x: size_modes[x])"
      ]
    },
    {
      "cell_type": "code",
      "execution_count": 19,
      "metadata": {
        "colab": {
          "base_uri": "https://localhost:8080/"
        },
        "id": "oJLueVuCaM-M",
        "outputId": "76010ad0-baa0-4d12-8c5b-09e5ceab4b07"
      },
      "outputs": [
        {
          "output_type": "execute_result",
          "data": {
            "text/plain": [
              "0"
            ]
          },
          "metadata": {},
          "execution_count": 19
        }
      ],
      "source": [
        "#Check for missing values\n",
        "data['Outlet_Size'].isnull().sum()"
      ]
    },
    {
      "cell_type": "code",
      "execution_count": 20,
      "metadata": {
        "colab": {
          "base_uri": "https://localhost:8080/"
        },
        "id": "FttQQtiuaM-N",
        "outputId": "21d7a1ea-1fa8-40ad-af5c-71b15bb6a2ae"
      },
      "outputs": [
        {
          "output_type": "execute_result",
          "data": {
            "text/plain": [
              "526"
            ]
          },
          "metadata": {},
          "execution_count": 20
        }
      ],
      "source": [
        "#Check for 0 valued data in Item_visibility\n",
        "sum(data['Item_Visibility']==0)"
      ]
    },
    {
      "cell_type": "code",
      "execution_count": 21,
      "metadata": {
        "id": "dItYF3PuaM-Q"
      },
      "outputs": [],
      "source": [
        "# replace zeros with mean in Item visibility\n",
        "data.loc[:, 'Item_Visibility'].replace([0], [data['Item_Visibility'].mean()], inplace=True)"
      ]
    },
    {
      "cell_type": "code",
      "execution_count": 22,
      "metadata": {
        "colab": {
          "base_uri": "https://localhost:8080/"
        },
        "id": "QRxyS8tBaM-S",
        "outputId": "908a4dc9-344a-4ced-a03c-e7eb19275620"
      },
      "outputs": [
        {
          "output_type": "execute_result",
          "data": {
            "text/plain": [
              "0"
            ]
          },
          "metadata": {},
          "execution_count": 22
        }
      ],
      "source": [
        "#Check if there are zero values\n",
        "sum(data['Item_Visibility']==0)"
      ]
    },
    {
      "cell_type": "code",
      "execution_count": 23,
      "metadata": {
        "colab": {
          "base_uri": "https://localhost:8080/"
        },
        "id": "KAIHNLStaM-U",
        "outputId": "ad7514fc-7eb3-45f0-e934-7bf9f3640855"
      },
      "outputs": [
        {
          "output_type": "execute_result",
          "data": {
            "text/plain": [
              "Low Fat    5517\n",
              "Regular    3006\n",
              "Name: Item_Fat_Content, dtype: int64"
            ]
          },
          "metadata": {},
          "execution_count": 23
        }
      ],
      "source": [
        "# combine LF and low fat into Low Fat in item fat content\n",
        "data['Item_Fat_Content'] = data['Item_Fat_Content'].replace({'LF':'Low Fat', 'reg':'Regular', 'low fat':'Low Fat'})\n",
        "data['Item_Fat_Content'].value_counts()"
      ]
    },
    {
      "cell_type": "markdown",
      "metadata": {
        "id": "V-Kc4OyRaM-V"
      },
      "source": [
        "## Creating New Meaningful Columns"
      ]
    },
    {
      "cell_type": "code",
      "execution_count": 24,
      "metadata": {
        "colab": {
          "base_uri": "https://localhost:8080/"
        },
        "id": "luoqDZGtaM-W",
        "outputId": "8501779c-e10a-4410-c9b3-3c56639f7e7d"
      },
      "outputs": [
        {
          "output_type": "execute_result",
          "data": {
            "text/plain": [
              "0       FD\n",
              "1       DR\n",
              "2       FD\n",
              "3       FD\n",
              "4       NC\n",
              "        ..\n",
              "8518    FD\n",
              "8519    FD\n",
              "8520    NC\n",
              "8521    FD\n",
              "8522    DR\n",
              "Name: Type_of_Item, Length: 8523, dtype: object"
            ]
          },
          "metadata": {},
          "execution_count": 24
        }
      ],
      "source": [
        "#Creating a new column called Type_of_Item from Item_Identifie\n",
        "data['Type_of_Item'] = data['Item_Identifier'].apply(lambda x: x[:2])\n",
        "data['Type_of_Item']"
      ]
    },
    {
      "cell_type": "code",
      "execution_count": 25,
      "metadata": {
        "colab": {
          "base_uri": "https://localhost:8080/"
        },
        "id": "J3T3yDpCaM-W",
        "outputId": "119828d3-2e25-4c80-e66d-fe7108a0f228"
      },
      "outputs": [
        {
          "output_type": "execute_result",
          "data": {
            "text/plain": [
              "Food              6125\n",
              "Non-Consumable    1599\n",
              "Drinks             799\n",
              "Name: Type_of_Item, dtype: int64"
            ]
          },
          "metadata": {},
          "execution_count": 25
        }
      ],
      "source": [
        "#Map FD to food, NC to non consumable and DR to drinks to make it user friendly\n",
        "data['Type_of_Item'] = data['Type_of_Item'].map({'FD':'Food', 'NC':'Non-Consumable', 'DR':'Drinks'})\n",
        "data['Type_of_Item'].value_counts()"
      ]
    },
    {
      "cell_type": "code",
      "execution_count": 26,
      "metadata": {
        "colab": {
          "base_uri": "https://localhost:8080/"
        },
        "id": "rcHDZzwoaM-X",
        "outputId": "7264f848-3723-44f5-8232-601d7cfbcf88"
      },
      "outputs": [
        {
          "output_type": "execute_result",
          "data": {
            "text/plain": [
              "Low Fat       3918\n",
              "Regular       3006\n",
              "Non-Edible    1599\n",
              "Name: Item_Fat_Content, dtype: int64"
            ]
          },
          "metadata": {},
          "execution_count": 26
        }
      ],
      "source": [
        "#Fill Non edible in item fat content for non consumable items\n",
        "data.loc[data['Type_of_Item']=='Non-Consumable', 'Item_Fat_Content'] = 'Non-Edible'\n",
        "data['Item_Fat_Content'].value_counts()"
      ]
    },
    {
      "cell_type": "code",
      "execution_count": 27,
      "metadata": {
        "id": "FHaS3IjPaM-Z"
      },
      "outputs": [],
      "source": [
        "# Create a new column for years active\n",
        "data['Years_Active'] = 2022 - data['Outlet_Establishment_Year']"
      ]
    },
    {
      "cell_type": "code",
      "execution_count": 28,
      "metadata": {
        "colab": {
          "base_uri": "https://localhost:8080/"
        },
        "id": "UYGwWlxVaM-a",
        "outputId": "67d84a78-ce4f-403b-c409-90fb79927844"
      },
      "outputs": [
        {
          "output_type": "execute_result",
          "data": {
            "text/plain": [
              "0       23\n",
              "1       13\n",
              "2       23\n",
              "3       24\n",
              "4       35\n",
              "        ..\n",
              "8518    35\n",
              "8519    20\n",
              "8520    18\n",
              "8521    13\n",
              "8522    25\n",
              "Name: Years_Active, Length: 8523, dtype: int64"
            ]
          },
          "metadata": {},
          "execution_count": 28
        }
      ],
      "source": [
        "data['Years_Active']"
      ]
    },
    {
      "cell_type": "code",
      "execution_count": 29,
      "metadata": {
        "colab": {
          "base_uri": "https://localhost:8080/",
          "height": 357
        },
        "id": "M2wureDsaM-b",
        "outputId": "3652e66f-1c5a-4306-820c-32c85b02ab95"
      },
      "outputs": [
        {
          "output_type": "execute_result",
          "data": {
            "text/plain": [
              "  Item_Identifier  Item_Weight Item_Fat_Content  Item_Visibility  \\\n",
              "0           FDA15         9.30          Low Fat         0.016047   \n",
              "1           DRC01         5.92          Regular         0.019278   \n",
              "2           FDN15        17.50          Low Fat         0.016760   \n",
              "3           FDX07        19.20          Regular         0.066132   \n",
              "4           NCD19         8.93       Non-Edible         0.066132   \n",
              "\n",
              "               Item_Type  Item_MRP Outlet_Identifier  \\\n",
              "0                  Dairy  249.8092            OUT049   \n",
              "1            Soft Drinks   48.2692            OUT018   \n",
              "2                   Meat  141.6180            OUT049   \n",
              "3  Fruits and Vegetables  182.0950            OUT010   \n",
              "4              Household   53.8614            OUT013   \n",
              "\n",
              "   Outlet_Establishment_Year Outlet_Size Outlet_Location_Type  \\\n",
              "0                       1999      Medium               Tier 1   \n",
              "1                       2009      Medium               Tier 3   \n",
              "2                       1999      Medium               Tier 1   \n",
              "3                       1998       Small               Tier 3   \n",
              "4                       1987        High               Tier 3   \n",
              "\n",
              "         Outlet_Type  Item_Outlet_Sales    Type_of_Item  Years_Active  \n",
              "0  Supermarket Type1          3735.1380            Food            23  \n",
              "1  Supermarket Type2           443.4228          Drinks            13  \n",
              "2  Supermarket Type1          2097.2700            Food            23  \n",
              "3      Grocery Store           732.3800            Food            24  \n",
              "4  Supermarket Type1           994.7052  Non-Consumable            35  "
            ],
            "text/html": [
              "\n",
              "  <div id=\"df-92d1fddd-d65b-4def-ab51-1e198c20e4dc\">\n",
              "    <div class=\"colab-df-container\">\n",
              "      <div>\n",
              "<style scoped>\n",
              "    .dataframe tbody tr th:only-of-type {\n",
              "        vertical-align: middle;\n",
              "    }\n",
              "\n",
              "    .dataframe tbody tr th {\n",
              "        vertical-align: top;\n",
              "    }\n",
              "\n",
              "    .dataframe thead th {\n",
              "        text-align: right;\n",
              "    }\n",
              "</style>\n",
              "<table border=\"1\" class=\"dataframe\">\n",
              "  <thead>\n",
              "    <tr style=\"text-align: right;\">\n",
              "      <th></th>\n",
              "      <th>Item_Identifier</th>\n",
              "      <th>Item_Weight</th>\n",
              "      <th>Item_Fat_Content</th>\n",
              "      <th>Item_Visibility</th>\n",
              "      <th>Item_Type</th>\n",
              "      <th>Item_MRP</th>\n",
              "      <th>Outlet_Identifier</th>\n",
              "      <th>Outlet_Establishment_Year</th>\n",
              "      <th>Outlet_Size</th>\n",
              "      <th>Outlet_Location_Type</th>\n",
              "      <th>Outlet_Type</th>\n",
              "      <th>Item_Outlet_Sales</th>\n",
              "      <th>Type_of_Item</th>\n",
              "      <th>Years_Active</th>\n",
              "    </tr>\n",
              "  </thead>\n",
              "  <tbody>\n",
              "    <tr>\n",
              "      <th>0</th>\n",
              "      <td>FDA15</td>\n",
              "      <td>9.30</td>\n",
              "      <td>Low Fat</td>\n",
              "      <td>0.016047</td>\n",
              "      <td>Dairy</td>\n",
              "      <td>249.8092</td>\n",
              "      <td>OUT049</td>\n",
              "      <td>1999</td>\n",
              "      <td>Medium</td>\n",
              "      <td>Tier 1</td>\n",
              "      <td>Supermarket Type1</td>\n",
              "      <td>3735.1380</td>\n",
              "      <td>Food</td>\n",
              "      <td>23</td>\n",
              "    </tr>\n",
              "    <tr>\n",
              "      <th>1</th>\n",
              "      <td>DRC01</td>\n",
              "      <td>5.92</td>\n",
              "      <td>Regular</td>\n",
              "      <td>0.019278</td>\n",
              "      <td>Soft Drinks</td>\n",
              "      <td>48.2692</td>\n",
              "      <td>OUT018</td>\n",
              "      <td>2009</td>\n",
              "      <td>Medium</td>\n",
              "      <td>Tier 3</td>\n",
              "      <td>Supermarket Type2</td>\n",
              "      <td>443.4228</td>\n",
              "      <td>Drinks</td>\n",
              "      <td>13</td>\n",
              "    </tr>\n",
              "    <tr>\n",
              "      <th>2</th>\n",
              "      <td>FDN15</td>\n",
              "      <td>17.50</td>\n",
              "      <td>Low Fat</td>\n",
              "      <td>0.016760</td>\n",
              "      <td>Meat</td>\n",
              "      <td>141.6180</td>\n",
              "      <td>OUT049</td>\n",
              "      <td>1999</td>\n",
              "      <td>Medium</td>\n",
              "      <td>Tier 1</td>\n",
              "      <td>Supermarket Type1</td>\n",
              "      <td>2097.2700</td>\n",
              "      <td>Food</td>\n",
              "      <td>23</td>\n",
              "    </tr>\n",
              "    <tr>\n",
              "      <th>3</th>\n",
              "      <td>FDX07</td>\n",
              "      <td>19.20</td>\n",
              "      <td>Regular</td>\n",
              "      <td>0.066132</td>\n",
              "      <td>Fruits and Vegetables</td>\n",
              "      <td>182.0950</td>\n",
              "      <td>OUT010</td>\n",
              "      <td>1998</td>\n",
              "      <td>Small</td>\n",
              "      <td>Tier 3</td>\n",
              "      <td>Grocery Store</td>\n",
              "      <td>732.3800</td>\n",
              "      <td>Food</td>\n",
              "      <td>24</td>\n",
              "    </tr>\n",
              "    <tr>\n",
              "      <th>4</th>\n",
              "      <td>NCD19</td>\n",
              "      <td>8.93</td>\n",
              "      <td>Non-Edible</td>\n",
              "      <td>0.066132</td>\n",
              "      <td>Household</td>\n",
              "      <td>53.8614</td>\n",
              "      <td>OUT013</td>\n",
              "      <td>1987</td>\n",
              "      <td>High</td>\n",
              "      <td>Tier 3</td>\n",
              "      <td>Supermarket Type1</td>\n",
              "      <td>994.7052</td>\n",
              "      <td>Non-Consumable</td>\n",
              "      <td>35</td>\n",
              "    </tr>\n",
              "  </tbody>\n",
              "</table>\n",
              "</div>\n",
              "      <button class=\"colab-df-convert\" onclick=\"convertToInteractive('df-92d1fddd-d65b-4def-ab51-1e198c20e4dc')\"\n",
              "              title=\"Convert this dataframe to an interactive table.\"\n",
              "              style=\"display:none;\">\n",
              "        \n",
              "  <svg xmlns=\"http://www.w3.org/2000/svg\" height=\"24px\"viewBox=\"0 0 24 24\"\n",
              "       width=\"24px\">\n",
              "    <path d=\"M0 0h24v24H0V0z\" fill=\"none\"/>\n",
              "    <path d=\"M18.56 5.44l.94 2.06.94-2.06 2.06-.94-2.06-.94-.94-2.06-.94 2.06-2.06.94zm-11 1L8.5 8.5l.94-2.06 2.06-.94-2.06-.94L8.5 2.5l-.94 2.06-2.06.94zm10 10l.94 2.06.94-2.06 2.06-.94-2.06-.94-.94-2.06-.94 2.06-2.06.94z\"/><path d=\"M17.41 7.96l-1.37-1.37c-.4-.4-.92-.59-1.43-.59-.52 0-1.04.2-1.43.59L10.3 9.45l-7.72 7.72c-.78.78-.78 2.05 0 2.83L4 21.41c.39.39.9.59 1.41.59.51 0 1.02-.2 1.41-.59l7.78-7.78 2.81-2.81c.8-.78.8-2.07 0-2.86zM5.41 20L4 18.59l7.72-7.72 1.47 1.35L5.41 20z\"/>\n",
              "  </svg>\n",
              "      </button>\n",
              "      \n",
              "  <style>\n",
              "    .colab-df-container {\n",
              "      display:flex;\n",
              "      flex-wrap:wrap;\n",
              "      gap: 12px;\n",
              "    }\n",
              "\n",
              "    .colab-df-convert {\n",
              "      background-color: #E8F0FE;\n",
              "      border: none;\n",
              "      border-radius: 50%;\n",
              "      cursor: pointer;\n",
              "      display: none;\n",
              "      fill: #1967D2;\n",
              "      height: 32px;\n",
              "      padding: 0 0 0 0;\n",
              "      width: 32px;\n",
              "    }\n",
              "\n",
              "    .colab-df-convert:hover {\n",
              "      background-color: #E2EBFA;\n",
              "      box-shadow: 0px 1px 2px rgba(60, 64, 67, 0.3), 0px 1px 3px 1px rgba(60, 64, 67, 0.15);\n",
              "      fill: #174EA6;\n",
              "    }\n",
              "\n",
              "    [theme=dark] .colab-df-convert {\n",
              "      background-color: #3B4455;\n",
              "      fill: #D2E3FC;\n",
              "    }\n",
              "\n",
              "    [theme=dark] .colab-df-convert:hover {\n",
              "      background-color: #434B5C;\n",
              "      box-shadow: 0px 1px 3px 1px rgba(0, 0, 0, 0.15);\n",
              "      filter: drop-shadow(0px 1px 2px rgba(0, 0, 0, 0.3));\n",
              "      fill: #FFFFFF;\n",
              "    }\n",
              "  </style>\n",
              "\n",
              "      <script>\n",
              "        const buttonEl =\n",
              "          document.querySelector('#df-92d1fddd-d65b-4def-ab51-1e198c20e4dc button.colab-df-convert');\n",
              "        buttonEl.style.display =\n",
              "          google.colab.kernel.accessAllowed ? 'block' : 'none';\n",
              "\n",
              "        async function convertToInteractive(key) {\n",
              "          const element = document.querySelector('#df-92d1fddd-d65b-4def-ab51-1e198c20e4dc');\n",
              "          const dataTable =\n",
              "            await google.colab.kernel.invokeFunction('convertToInteractive',\n",
              "                                                     [key], {});\n",
              "          if (!dataTable) return;\n",
              "\n",
              "          const docLinkHtml = 'Like what you see? Visit the ' +\n",
              "            '<a target=\"_blank\" href=https://colab.research.google.com/notebooks/data_table.ipynb>data table notebook</a>'\n",
              "            + ' to learn more about interactive tables.';\n",
              "          element.innerHTML = '';\n",
              "          dataTable['output_type'] = 'display_data';\n",
              "          await google.colab.output.renderOutput(dataTable, element);\n",
              "          const docLink = document.createElement('div');\n",
              "          docLink.innerHTML = docLinkHtml;\n",
              "          element.appendChild(docLink);\n",
              "        }\n",
              "      </script>\n",
              "    </div>\n",
              "  </div>\n",
              "  "
            ]
          },
          "metadata": {},
          "execution_count": 29
        }
      ],
      "source": [
        "data.head()"
      ]
    },
    {
      "cell_type": "markdown",
      "metadata": {
        "id": "ReBidpK5aM-c"
      },
      "source": [
        "## Exploratory Data Analysis"
      ]
    },
    {
      "cell_type": "code",
      "source": [
        "data.plot(kind='line', x='Outlet_Size', y='Item_Outlet_Sales', alpha=1.5,fig=(4,5))"
      ],
      "metadata": {
        "colab": {
          "base_uri": "https://localhost:8080/",
          "height": 297
        },
        "id": "VMBj2mEvfDtx",
        "outputId": "ff34a7a2-ddfb-4b01-a245-7291c44b73b2"
      },
      "execution_count": 30,
      "outputs": [
        {
          "output_type": "execute_result",
          "data": {
            "text/plain": [
              "<matplotlib.axes._subplots.AxesSubplot at 0x7f119f245790>"
            ]
          },
          "metadata": {},
          "execution_count": 30
        },
        {
          "output_type": "display_data",
          "data": {
            "text/plain": [
              "<Figure size 432x288 with 1 Axes>"
            ],
            "image/png": "[encoded data removed]"
          },
          "metadata": {
            "needs_background": "light"
          }
        }
      ]
    },
    {
      "cell_type": "code",
      "execution_count": 31,
      "metadata": {
        "colab": {
          "base_uri": "https://localhost:8080/",
          "height": 297
        },
        "id": "pwBWK78FaM-d",
        "outputId": "a790bb7f-0af7-41c5-ff76-deb01b9875d5"
      },
      "outputs": [
        {
          "output_type": "execute_result",
          "data": {
            "text/plain": [
              "<matplotlib.axes._subplots.AxesSubplot at 0x7f119f176bd0>"
            ]
          },
          "metadata": {},
          "execution_count": 31
        },
        {
          "output_type": "display_data",
          "data": {
            "text/plain": [
              "<Figure size 432x288 with 1 Axes>"
            ],
            "image/png": "[encoded data removed]"
          },
          "metadata": {
            "needs_background": "light"
          }
        }
      ],
      "source": [
        "#univariate distribution of item weight\n",
        "sns.distplot(data['Item_Weight'])"
      ]
    },
    {
      "cell_type": "code",
      "execution_count": 32,
      "metadata": {
        "colab": {
          "base_uri": "https://localhost:8080/",
          "height": 297
        },
        "id": "73e739BfaM-f",
        "outputId": "73dda66c-dab2-41c8-f90f-9e39568c62d5"
      },
      "outputs": [
        {
          "output_type": "execute_result",
          "data": {
            "text/plain": [
              "<matplotlib.axes._subplots.AxesSubplot at 0x7f119ec20790>"
            ]
          },
          "metadata": {},
          "execution_count": 32
        },
        {
          "output_type": "display_data",
          "data": {
            "text/plain": [
              "<Figure size 432x288 with 1 Axes>"
            ],
            "image/png": "[encoded data removed]"
          },
          "metadata": {
            "needs_background": "light"
          }
        }
      ],
      "source": [
        "#Univariate distribution of item visibility\n",
        "sns.distplot(data['Item_Visibility'])"
      ]
    },
    {
      "cell_type": "code",
      "execution_count": 33,
      "metadata": {
        "colab": {
          "base_uri": "https://localhost:8080/",
          "height": 297
        },
        "id": "rTyoXe_vaM-g",
        "outputId": "47ea3f1e-f42e-4da8-fb34-6fc4852844aa"
      },
      "outputs": [
        {
          "output_type": "execute_result",
          "data": {
            "text/plain": [
              "<matplotlib.axes._subplots.AxesSubplot at 0x7f119ec14dd0>"
            ]
          },
          "metadata": {},
          "execution_count": 33
        },
        {
          "output_type": "display_data",
          "data": {
            "text/plain": [
              "<Figure size 432x288 with 1 Axes>"
            ],
            "image/png": "[encoded data removed]"
          },
          "metadata": {
            "needs_background": "light"
          }
        }
      ],
      "source": [
        "#Univariate distribution of price\n",
        "sns.distplot(data['Item_MRP'])"
      ]
    },
    {
      "cell_type": "code",
      "execution_count": 34,
      "metadata": {
        "colab": {
          "base_uri": "https://localhost:8080/",
          "height": 297
        },
        "id": "4wmedaSpaM-h",
        "outputId": "56f1cc59-3fd5-467f-9424-873e0b726b14"
      },
      "outputs": [
        {
          "output_type": "execute_result",
          "data": {
            "text/plain": [
              "<matplotlib.axes._subplots.AxesSubplot at 0x7f119ea700d0>"
            ]
          },
          "metadata": {},
          "execution_count": 34
        },
        {
          "output_type": "display_data",
          "data": {
            "text/plain": [
              "<Figure size 432x288 with 1 Axes>"
            ],
            "image/png": "[encoded data removed]"
          },
          "metadata": {
            "needs_background": "light"
          }
        }
      ],
      "source": [
        "#univariate distribution of item outlet sales\n",
        "sns.distplot(data['Item_Outlet_Sales'])"
      ]
    },
    {
      "cell_type": "code",
      "execution_count": 35,
      "metadata": {
        "id": "lBJkdyEHaM-h"
      },
      "outputs": [],
      "source": [
        "# log transformation of item outlet sales\n",
        "data['Item_Outlet_Sales'] = np.log(1+data['Item_Outlet_Sales'])"
      ]
    },
    {
      "cell_type": "code",
      "execution_count": 36,
      "metadata": {
        "colab": {
          "base_uri": "https://localhost:8080/",
          "height": 297
        },
        "id": "pYwwMS2JaM-j",
        "outputId": "00a56ab1-eefa-4e2a-c6b8-91488e02ee9e"
      },
      "outputs": [
        {
          "output_type": "execute_result",
          "data": {
            "text/plain": [
              "<matplotlib.axes._subplots.AxesSubplot at 0x7f119e9b3c50>"
            ]
          },
          "metadata": {},
          "execution_count": 36
        },
        {
          "output_type": "display_data",
          "data": {
            "text/plain": [
              "<Figure size 432x288 with 1 Axes>"
            ],
            "image/png": "[encoded data removed]"
          },
          "metadata": {
            "needs_background": "light"
          }
        }
      ],
      "source": [
        "sns.distplot(data['Item_Outlet_Sales'])"
      ]
    },
    {
      "cell_type": "code",
      "execution_count": 37,
      "metadata": {
        "colab": {
          "base_uri": "https://localhost:8080/",
          "height": 297
        },
        "id": "o4CM2cezaM-l",
        "outputId": "0bf6ca0e-483c-409f-ab95-f14dd366d364"
      },
      "outputs": [
        {
          "output_type": "execute_result",
          "data": {
            "text/plain": [
              "<matplotlib.axes._subplots.AxesSubplot at 0x7f119e810210>"
            ]
          },
          "metadata": {},
          "execution_count": 37
        },
        {
          "output_type": "display_data",
          "data": {
            "text/plain": [
              "<Figure size 432x288 with 1 Axes>"
            ],
            "image/png": "[encoded data removed]"
          },
          "metadata": {
            "needs_background": "light"
          }
        }
      ],
      "source": [
        "#Display count of items in each category\n",
        "sns.countplot(data[\"Item_Fat_Content\"])"
      ]
    },
    {
      "cell_type": "code",
      "execution_count": 38,
      "metadata": {
        "colab": {
          "base_uri": "https://localhost:8080/",
          "height": 373
        },
        "id": "B9XxPoniaM-l",
        "outputId": "dabb9ae2-f102-424d-f9bb-fa54a88a0743"
      },
      "outputs": [
        {
          "output_type": "execute_result",
          "data": {
            "text/plain": [
              "[Text(0, 0, 'Food'), Text(0, 0, 'Drinks'), Text(0, 0, 'Non-Consumable')]"
            ]
          },
          "metadata": {},
          "execution_count": 38
        },
        {
          "output_type": "display_data",
          "data": {
            "text/plain": [
              "<Figure size 432x288 with 1 Axes>"
            ],
            "image/png": "[encoded data removed]"
          },
          "metadata": {
            "needs_background": "light"
          }
        }
      ],
      "source": [
        "#Display of count of items\n",
        "l = list(data['Type_of_Item'].unique())\n",
        "chart = sns.countplot(data[\"Type_of_Item\"])\n",
        "chart.set_xticklabels(labels=l, rotation=90)"
      ]
    },
    {
      "cell_type": "code",
      "execution_count": 39,
      "metadata": {
        "colab": {
          "base_uri": "https://localhost:8080/",
          "height": 297
        },
        "id": "7W13_cpuaM-l",
        "outputId": "2d626532-82d0-4340-8e90-7d718291e139"
      },
      "outputs": [
        {
          "output_type": "execute_result",
          "data": {
            "text/plain": [
              "<matplotlib.axes._subplots.AxesSubplot at 0x7f119eb30cd0>"
            ]
          },
          "metadata": {},
          "execution_count": 39
        },
        {
          "output_type": "display_data",
          "data": {
            "text/plain": [
              "<Figure size 432x288 with 1 Axes>"
            ],
            "image/png": "[encoded data removed]"
          },
          "metadata": {
            "needs_background": "light"
          }
        }
      ],
      "source": [
        "#Display count of outlets establised per year\n",
        "sns.countplot(data['Outlet_Establishment_Year'])"
      ]
    },
    {
      "cell_type": "code",
      "execution_count": 40,
      "metadata": {
        "colab": {
          "base_uri": "https://localhost:8080/",
          "height": 300
        },
        "id": "AXRmxOfaaM-m",
        "outputId": "a468df41-b47c-4ff7-a24f-abdffe477507"
      },
      "outputs": [
        {
          "output_type": "execute_result",
          "data": {
            "text/plain": [
              "<matplotlib.axes._subplots.AxesSubplot at 0x7f119e817050>"
            ]
          },
          "metadata": {},
          "execution_count": 40
        },
        {
          "output_type": "display_data",
          "data": {
            "text/plain": [
              "<Figure size 432x288 with 1 Axes>"
            ],
            "image/png": "[encoded data removed]"
          },
          "metadata": {
            "needs_background": "light"
          }
        }
      ],
      "source": [
        "#Display of count of outlet size\n",
        "sns.countplot(data['Outlet_Size'])"
      ]
    },
    {
      "cell_type": "code",
      "execution_count": 41,
      "metadata": {
        "colab": {
          "base_uri": "https://localhost:8080/",
          "height": 300
        },
        "id": "C2XoK1FOaM-n",
        "outputId": "be76e83c-b4af-41e7-ac99-72e0ff91ca32"
      },
      "outputs": [
        {
          "output_type": "execute_result",
          "data": {
            "text/plain": [
              "<matplotlib.axes._subplots.AxesSubplot at 0x7f119e68fdd0>"
            ]
          },
          "metadata": {},
          "execution_count": 41
        },
        {
          "output_type": "display_data",
          "data": {
            "text/plain": [
              "<Figure size 432x288 with 1 Axes>"
            ],
            "image/png": "[encoded data removed]"
          },
          "metadata": {
            "needs_background": "light"
          }
        }
      ],
      "source": [
        "#Display of count of outlet location type\n",
        "sns.countplot(data['Outlet_Location_Type'])"
      ]
    },
    {
      "cell_type": "code",
      "execution_count": 42,
      "metadata": {
        "colab": {
          "base_uri": "https://localhost:8080/",
          "height": 297
        },
        "id": "KWx3GoSMaM-n",
        "outputId": "dce0f61b-3c72-415e-8483-b6e15dc46653"
      },
      "outputs": [
        {
          "output_type": "execute_result",
          "data": {
            "text/plain": [
              "<matplotlib.axes._subplots.AxesSubplot at 0x7f119ea708d0>"
            ]
          },
          "metadata": {},
          "execution_count": 42
        },
        {
          "output_type": "display_data",
          "data": {
            "text/plain": [
              "<Figure size 432x288 with 1 Axes>"
            ],
            "image/png": "[encoded data removed]"
          },
          "metadata": {
            "needs_background": "light"
          }
        }
      ],
      "source": [
        "#Display count of outlet type\n",
        "sns.countplot(data['Outlet_Type'])"
      ]
    },
    {
      "cell_type": "markdown",
      "metadata": {
        "id": "3GyaHd38aM-o"
      },
      "source": [
        "## Correlation Matrix\n",
        "\n"
      ]
    },
    {
      "cell_type": "code",
      "execution_count": 43,
      "metadata": {
        "colab": {
          "base_uri": "https://localhost:8080/",
          "height": 409
        },
        "id": "9PSG1bJ6aM-p",
        "outputId": "6cdca6da-c00e-4830-cca0-184028e0dc0e"
      },
      "outputs": [
        {
          "output_type": "execute_result",
          "data": {
            "text/plain": [
              "<matplotlib.axes._subplots.AxesSubplot at 0x7f119e5ec790>"
            ]
          },
          "metadata": {},
          "execution_count": 43
        },
        {
          "output_type": "display_data",
          "data": {
            "text/plain": [
              "<Figure size 432x288 with 2 Axes>"
            ],
            "image/png": "[encoded data removed]"
          },
          "metadata": {
            "needs_background": "light"
          }
        }
      ],
      "source": [
        "corr = data.corr()\n",
        "sns.heatmap(corr, annot=True,cmap=\"YlGnBu\")"
      ]
    },
    {
      "cell_type": "markdown",
      "metadata": {
        "id": "9hrFjUPsaM-q"
      },
      "source": [
        "## Encoding categorical variables into Numerical"
      ]
    },
    {
      "cell_type": "code",
      "execution_count": 44,
      "metadata": {
        "id": "_A8wRcxMaM-r"
      },
      "outputs": [],
      "source": [
        "from sklearn.preprocessing import LabelEncoder\n",
        "le = LabelEncoder()\n",
        "data['Outlet'] = le.fit_transform(data['Outlet_Identifier'])\n",
        "cat_col = ['Item_Fat_Content', 'Item_Type', 'Outlet_Size', 'Outlet_Location_Type', 'Outlet_Type', 'Type_of_Item']\n",
        "for col in cat_col:\n",
        "    data[col] = le.fit_transform(data[col])"
      ]
    },
    {
      "cell_type": "markdown",
      "metadata": {
        "id": "vCk6VbOYaM-t"
      },
      "source": [
        "## Onehot Encoding the Numerical Variables"
      ]
    },
    {
      "cell_type": "code",
      "execution_count": 45,
      "metadata": {
        "id": "JrYRsN55aM-u"
      },
      "outputs": [],
      "source": [
        "data = pd.get_dummies(data, columns=['Item_Fat_Content', 'Outlet_Size', 'Outlet_Location_Type', 'Outlet_Type', 'Type_of_Item'])\n"
      ]
    },
    {
      "cell_type": "markdown",
      "source": [
        "## Drop Unnecessary columns"
      ],
      "metadata": {
        "id": "55q0x9K7hQBW"
      }
    },
    {
      "cell_type": "code",
      "execution_count": 46,
      "metadata": {
        "id": "jxLSGUyraM-w"
      },
      "outputs": [],
      "source": [
        "X = data.drop(columns=['Outlet_Establishment_Year', 'Item_Identifier', 'Outlet_Identifier', 'Item_Outlet_Sales'])\n",
        "y = data['Item_Outlet_Sales']"
      ]
    },
    {
      "cell_type": "markdown",
      "metadata": {
        "id": "LGBZgA8iaM-x"
      },
      "source": [
        "## Split Data into Training and Testing"
      ]
    },
    {
      "cell_type": "code",
      "source": [
        "Xtr, Xts, ytr, yts = train_test_split(X,y, test_size=0.50)"
      ],
      "metadata": {
        "id": "KVKCmZ89nQmZ"
      },
      "execution_count": 47,
      "outputs": []
    },
    {
      "cell_type": "markdown",
      "source": [
        "## Linear Regression"
      ],
      "metadata": {
        "id": "mNkFx7OkhuAF"
      }
    },
    {
      "cell_type": "code",
      "source": [
        "clf = LinearRegression()\n",
        "clf.fit(Xtr,ytr)\n",
        "yhat=clf.predict(Xts)\n",
        "MSE_L=mean_squared_error(yts,yhat)\n",
        "print(\"MSE of Linear Regression:\",MSE_L)\n",
        "LR=clf.score(X, y)\n",
        "print(\"R Square score:\",clf.score(X, y))\n",
        "# clf.intercept_,clf.coef_, clf.score(X, y)"
      ],
      "metadata": {
        "colab": {
          "base_uri": "https://localhost:8080/"
        },
        "id": "0d55Lo_Dho43",
        "outputId": "4b5cf661-c06c-4900-a323-46ec23c05af1"
      },
      "execution_count": 48,
      "outputs": [
        {
          "output_type": "stream",
          "name": "stdout",
          "text": [
            "MSE of Linear Regression: 0.29192977265491127\n",
            "R Square score: 0.7201820499203497\n"
          ]
        }
      ]
    },
    {
      "cell_type": "markdown",
      "source": [
        "## Ridge Regression"
      ],
      "metadata": {
        "id": "gYi3J7MoiVoh"
      }
    },
    {
      "cell_type": "code",
      "source": [
        "ridge= Ridge(alpha=1)\n",
        "ridge.fit(Xtr,ytr)\n",
        "yhat=ridge.predict(Xts)\n",
        "rsq = r2_score(yts, yhat)\n",
        "MSE_R=mean_squared_error(yts,yhat)\n",
        "print(\"MSE of Ridge Regression:\",MSE_R)\n",
        "print('Test R^2     = %f' % rsq)"
      ],
      "metadata": {
        "colab": {
          "base_uri": "https://localhost:8080/"
        },
        "id": "yZEVQJ6nq1sx",
        "outputId": "8a32e219-4295-439d-f897-842e717d32c1"
      },
      "execution_count": 49,
      "outputs": [
        {
          "output_type": "stream",
          "name": "stdout",
          "text": [
            "MSE of Ridge Regression: 0.29222870664209133\n",
            "Test R^2     = 0.712913\n"
          ]
        }
      ]
    },
    {
      "cell_type": "markdown",
      "source": [
        "## Lasso Regression"
      ],
      "metadata": {
        "id": "4AdUy2c2il-p"
      }
    },
    {
      "cell_type": "code",
      "source": [
        "reg = Lasso(alpha=1)\n",
        "reg.fit(Xtr, ytr)\n",
        "yhat1 = reg.predict(Xts)\n",
        "rsq = r2_score(yts, yhat1)\n",
        "MSE_LA=mean_squared_error(yts,yhat1)\n",
        "print(\"MSE of Lasso Regression:\",MSE_LA)\n",
        "print('Test R^2= %f' % rsq)"
      ],
      "metadata": {
        "colab": {
          "base_uri": "https://localhost:8080/"
        },
        "id": "WvFprzdCrdl9",
        "outputId": "5a82d608-89c6-42ca-b559-8cd082c1dfd8"
      },
      "execution_count": 50,
      "outputs": [
        {
          "output_type": "stream",
          "name": "stdout",
          "text": [
            "MSE of Lasso Regression: 0.768319203088075\n",
            "Test R^2= 0.245198\n"
          ]
        }
      ]
    },
    {
      "cell_type": "markdown",
      "source": [
        "##Decision Trees"
      ],
      "metadata": {
        "id": "tHTkVnNai3ma"
      }
    },
    {
      "cell_type": "code",
      "execution_count": 51,
      "metadata": {
        "colab": {
          "base_uri": "https://localhost:8080/",
          "height": 423
        },
        "id": "UgTN9pnAaM-2",
        "outputId": "162d64a2-671b-4c13-9f19-406fe11f1fad"
      },
      "outputs": [
        {
          "output_type": "stream",
          "name": "stdout",
          "text": [
            "MSE of Decision Trees 0.5710254653177707\n",
            "R Square score: 1.0\n"
          ]
        },
        {
          "output_type": "display_data",
          "data": {
            "text/plain": [
              "<Figure size 432x288 with 1 Axes>"
            ],
            "image/png": "[encoded data removed]"
          },
          "metadata": {
            "needs_background": "light"
          }
        }
      ],
      "source": [
        "model = DecisionTreeRegressor()\n",
        "model.fit(Xtr, ytr)\n",
        "yhat= model.predict(Xts)\n",
        "MSE_DT=mean_squared_error(yts,yhat)\n",
        "print(\"MSE of Decision Trees\",MSE_DT)\n",
        "coef = pd.Series(model.feature_importances_, X.columns).sort_values(ascending=False)\n",
        "coef.plot(kind='bar', title=\"Feature Importance\")\n",
        "DT=model.score(Xtr, ytr)\n",
        "print(\"R Square score:\",model.score(Xtr, ytr))"
      ]
    },
    {
      "cell_type": "markdown",
      "source": [
        "##Random Forest"
      ],
      "metadata": {
        "id": "yCakMcd6jYC-"
      }
    },
    {
      "cell_type": "code",
      "execution_count": 52,
      "metadata": {
        "colab": {
          "base_uri": "https://localhost:8080/",
          "height": 423
        },
        "id": "sb_HQhUUaM-3",
        "outputId": "2b312176-dda6-451b-fb8e-9bd138c48076"
      },
      "outputs": [
        {
          "output_type": "stream",
          "name": "stdout",
          "text": [
            "MSE of Random Forest: 0.3033229143669142\n",
            "R Square score: 0.9589942111626157\n"
          ]
        },
        {
          "output_type": "display_data",
          "data": {
            "text/plain": [
              "<Figure size 432x288 with 1 Axes>"
            ],
            "image/png": "[encoded data removed]"
          },
          "metadata": {
            "needs_background": "light"
          }
        }
      ],
      "source": [
        "model = RandomForestRegressor()\n",
        "model.fit(Xtr,ytr)\n",
        "yhat=model.predict(Xts)\n",
        "MSE_RF=mean_squared_error(yts,yhat)\n",
        "coef = pd.Series(model.feature_importances_, Xtr.columns).sort_values(ascending=False)\n",
        "coef.plot(kind='bar', title=\"Feature Importance\")\n",
        "RF=model.score(Xtr, ytr)\n",
        "print(\"MSE of Random Forest:\",MSE_RF)\n",
        "print(\"R Square score:\",model.score(Xtr, ytr))"
      ]
    },
    {
      "cell_type": "markdown",
      "source": [
        "## Extra Trees Regressor"
      ],
      "metadata": {
        "id": "Jd-zsJrfjVew"
      }
    },
    {
      "cell_type": "code",
      "execution_count": 53,
      "metadata": {
        "colab": {
          "base_uri": "https://localhost:8080/",
          "height": 423
        },
        "id": "uS_semPaaM-3",
        "outputId": "b3499b61-cf14-440e-e4a8-69b4cce6a9af"
      },
      "outputs": [
        {
          "output_type": "stream",
          "name": "stdout",
          "text": [
            "MSE: 0.323739144587211\n",
            "R Square score: 1.0\n"
          ]
        },
        {
          "output_type": "display_data",
          "data": {
            "text/plain": [
              "<Figure size 432x288 with 1 Axes>"
            ],
            "image/png": "[encoded data removed]"
          },
          "metadata": {
            "needs_background": "light"
          }
        }
      ],
      "source": [
        "Extra = ExtraTreesRegressor()\n",
        "Extra.fit(Xtr,ytr)\n",
        "yhat=Extra.predict(Xts)\n",
        "MSE_ET=mean_squared_error(yts,yhat)\n",
        "coef = pd.Series(model.feature_importances_, Xtr.columns).sort_values(ascending=False)\n",
        "coef.plot(kind='bar', title=\"Feature Importance\")\n",
        "ET=Extra.score(Xtr, ytr)\n",
        "print(\"MSE:\",MSE_ET)\n",
        "print(\"R Square score:\",Extra.score(Xtr, ytr))"
      ]
    },
    {
      "cell_type": "markdown",
      "source": [
        "## Neural Networks"
      ],
      "metadata": {
        "id": "Wa48y4xujzS1"
      }
    },
    {
      "cell_type": "code",
      "execution_count": 54,
      "metadata": {
        "colab": {
          "base_uri": "https://localhost:8080/"
        },
        "id": "-MeBqqwNaM-6",
        "outputId": "6839de41-2e45-447c-eb02-a94ae6fc5456"
      },
      "outputs": [
        {
          "output_type": "stream",
          "name": "stdout",
          "text": [
            "Model: \"sequential\"\n",
            "_________________________________________________________________\n",
            " Layer (type)                Output Shape              Param #   \n",
            "=================================================================\n",
            " Input (Dense)               (None, 128)               2944      \n",
            "                                                                 \n",
            " hidden (Dense)              (None, 256)               33024     \n",
            "                                                                 \n",
            " hidden1 (Dense)             (None, 256)               65792     \n",
            "                                                                 \n",
            " hidden2 (Dense)             (None, 256)               65792     \n",
            "                                                                 \n",
            " output (Dense)              (None, 1)                 257       \n",
            "                                                                 \n",
            "=================================================================\n",
            "Total params: 167,809\n",
            "Trainable params: 167,809\n",
            "Non-trainable params: 0\n",
            "_________________________________________________________________\n"
          ]
        }
      ],
      "source": [
        "#Construct the Neural Network\n",
        "NN_model = Sequential()\n",
        "\n",
        "NN_model.add(Dense(128, kernel_initializer='normal',input_dim = Xtr.shape[1], activation='relu',name='Input'))\n",
        "\n",
        "\n",
        "NN_model.add(Dense(256, kernel_initializer='normal',activation='relu',name='hidden'))\n",
        "NN_model.add(Dense(256, kernel_initializer='normal',activation='relu',name='hidden1'))\n",
        "NN_model.add(Dense(256, kernel_initializer='normal',activation='relu',name='hidden2'))\n",
        "\n",
        "NN_model.add(Dense(1, kernel_initializer='normal',activation='linear',name='output'))\n",
        "\n",
        "\n",
        "NN_model.compile(loss='mean_absolute_error', optimizer='adam', metrics=['mean_absolute_error'])\n",
        "NN_model.summary()"
      ]
    },
    {
      "cell_type": "code",
      "execution_count": 55,
      "metadata": {
        "id": "eHb4kjkWaM-6"
      },
      "outputs": [],
      "source": [
        "#Save the model with the Best validation loss\n",
        "checkpoint_name = 'Best_model.hdf5' \n",
        "checkpoint = ModelCheckpoint(checkpoint_name, monitor='val_loss', verbose = 1, save_best_only = True, mode ='auto')\n",
        "callbacks_list = [checkpoint]"
      ]
    },
    {
      "cell_type": "code",
      "source": [
        "#Fit the model\n",
        "NN_model.fit(Xtr,ytr,epochs=100, batch_size=32, validation_split = 0.2, callbacks=callbacks_list)"
      ],
      "metadata": {
        "colab": {
          "base_uri": "https://localhost:8080/"
        },
        "id": "UvijlGCc4Rgg",
        "outputId": "67f2b50e-fb7a-44ca-c46a-8eb00e034c1a"
      },
      "execution_count": 56,
      "outputs": [
        {
          "output_type": "stream",
          "name": "stdout",
          "text": [
            "Epoch 1/100\n",
            "102/107 [===========================>..] - ETA: 0s - loss: 1.3650 - mean_absolute_error: 1.3650\n",
            "Epoch 1: val_loss improved from inf to 1.12855, saving model to Best_model.hdf5\n",
            "107/107 [==============================] - 3s 14ms/step - loss: 1.3425 - mean_absolute_error: 1.3425 - val_loss: 1.1285 - val_mean_absolute_error: 1.1285\n",
            "Epoch 2/100\n",
            "102/107 [===========================>..] - ETA: 0s - loss: 0.7558 - mean_absolute_error: 0.7558\n",
            "Epoch 2: val_loss improved from 1.12855 to 0.58414, saving model to Best_model.hdf5\n",
            "107/107 [==============================] - 1s 10ms/step - loss: 0.7518 - mean_absolute_error: 0.7518 - val_loss: 0.5841 - val_mean_absolute_error: 0.5841\n",
            "Epoch 3/100\n",
            "102/107 [===========================>..] - ETA: 0s - loss: 0.5611 - mean_absolute_error: 0.5611\n",
            "Epoch 3: val_loss did not improve from 0.58414\n",
            "107/107 [==============================] - 1s 9ms/step - loss: 0.5657 - mean_absolute_error: 0.5657 - val_loss: 0.7479 - val_mean_absolute_error: 0.7479\n",
            "Epoch 4/100\n",
            "107/107 [==============================] - ETA: 0s - loss: 0.6231 - mean_absolute_error: 0.6231\n",
            "Epoch 4: val_loss improved from 0.58414 to 0.47563, saving model to Best_model.hdf5\n",
            "107/107 [==============================] - 1s 13ms/step - loss: 0.6231 - mean_absolute_error: 0.6231 - val_loss: 0.4756 - val_mean_absolute_error: 0.4756\n",
            "Epoch 5/100\n",
            "105/107 [============================>.] - ETA: 0s - loss: 0.5112 - mean_absolute_error: 0.5112\n",
            "Epoch 5: val_loss improved from 0.47563 to 0.46437, saving model to Best_model.hdf5\n",
            "107/107 [==============================] - 1s 6ms/step - loss: 0.5117 - mean_absolute_error: 0.5117 - val_loss: 0.4644 - val_mean_absolute_error: 0.4644\n",
            "Epoch 6/100\n",
            "103/107 [===========================>..] - ETA: 0s - loss: 0.4905 - mean_absolute_error: 0.4905\n",
            "Epoch 6: val_loss did not improve from 0.46437\n",
            "107/107 [==============================] - 1s 5ms/step - loss: 0.4913 - mean_absolute_error: 0.4913 - val_loss: 0.5158 - val_mean_absolute_error: 0.5158\n",
            "Epoch 7/100\n",
            " 98/107 [==========================>...] - ETA: 0s - loss: 0.4689 - mean_absolute_error: 0.4689\n",
            "Epoch 7: val_loss did not improve from 0.46437\n",
            "107/107 [==============================] - 1s 5ms/step - loss: 0.4670 - mean_absolute_error: 0.4670 - val_loss: 0.5197 - val_mean_absolute_error: 0.5197\n",
            "Epoch 8/100\n",
            "100/107 [===========================>..] - ETA: 0s - loss: 0.4775 - mean_absolute_error: 0.4775\n",
            "Epoch 8: val_loss improved from 0.46437 to 0.43855, saving model to Best_model.hdf5\n",
            "107/107 [==============================] - 1s 5ms/step - loss: 0.4801 - mean_absolute_error: 0.4801 - val_loss: 0.4385 - val_mean_absolute_error: 0.4385\n",
            "Epoch 9/100\n",
            " 95/107 [=========================>....] - ETA: 0s - loss: 0.4747 - mean_absolute_error: 0.4747\n",
            "Epoch 9: val_loss did not improve from 0.43855\n",
            "107/107 [==============================] - 1s 5ms/step - loss: 0.4826 - mean_absolute_error: 0.4826 - val_loss: 0.6277 - val_mean_absolute_error: 0.6277\n",
            "Epoch 10/100\n",
            "106/107 [============================>.] - ETA: 0s - loss: 0.4524 - mean_absolute_error: 0.4524\n",
            "Epoch 10: val_loss did not improve from 0.43855\n",
            "107/107 [==============================] - 1s 5ms/step - loss: 0.4528 - mean_absolute_error: 0.4528 - val_loss: 0.5550 - val_mean_absolute_error: 0.5550\n",
            "Epoch 11/100\n",
            " 95/107 [=========================>....] - ETA: 0s - loss: 0.4531 - mean_absolute_error: 0.4531\n",
            "Epoch 11: val_loss did not improve from 0.43855\n",
            "107/107 [==============================] - 0s 5ms/step - loss: 0.4588 - mean_absolute_error: 0.4588 - val_loss: 0.4621 - val_mean_absolute_error: 0.4621\n",
            "Epoch 12/100\n",
            " 97/107 [==========================>...] - ETA: 0s - loss: 0.4746 - mean_absolute_error: 0.4746\n",
            "Epoch 12: val_loss improved from 0.43855 to 0.42570, saving model to Best_model.hdf5\n",
            "107/107 [==============================] - 1s 5ms/step - loss: 0.4730 - mean_absolute_error: 0.4730 - val_loss: 0.4257 - val_mean_absolute_error: 0.4257\n",
            "Epoch 13/100\n",
            "101/107 [===========================>..] - ETA: 0s - loss: 0.4773 - mean_absolute_error: 0.4773\n",
            "Epoch 13: val_loss did not improve from 0.42570\n",
            "107/107 [==============================] - 1s 5ms/step - loss: 0.4782 - mean_absolute_error: 0.4782 - val_loss: 0.4981 - val_mean_absolute_error: 0.4981\n",
            "Epoch 14/100\n",
            " 97/107 [==========================>...] - ETA: 0s - loss: 0.4609 - mean_absolute_error: 0.4609\n",
            "Epoch 14: val_loss improved from 0.42570 to 0.42055, saving model to Best_model.hdf5\n",
            "107/107 [==============================] - 1s 5ms/step - loss: 0.4575 - mean_absolute_error: 0.4575 - val_loss: 0.4205 - val_mean_absolute_error: 0.4205\n",
            "Epoch 15/100\n",
            "102/107 [===========================>..] - ETA: 0s - loss: 0.4166 - mean_absolute_error: 0.4166\n",
            "Epoch 15: val_loss did not improve from 0.42055\n",
            "107/107 [==============================] - 1s 5ms/step - loss: 0.4183 - mean_absolute_error: 0.4183 - val_loss: 0.4635 - val_mean_absolute_error: 0.4635\n",
            "Epoch 16/100\n",
            " 99/107 [==========================>...] - ETA: 0s - loss: 0.4319 - mean_absolute_error: 0.4319\n",
            "Epoch 16: val_loss did not improve from 0.42055\n",
            "107/107 [==============================] - 1s 5ms/step - loss: 0.4280 - mean_absolute_error: 0.4280 - val_loss: 0.5258 - val_mean_absolute_error: 0.5258\n",
            "Epoch 17/100\n",
            "101/107 [===========================>..] - ETA: 0s - loss: 0.4279 - mean_absolute_error: 0.4279\n",
            "Epoch 17: val_loss did not improve from 0.42055\n",
            "107/107 [==============================] - 1s 6ms/step - loss: 0.4285 - mean_absolute_error: 0.4285 - val_loss: 0.5092 - val_mean_absolute_error: 0.5092\n",
            "Epoch 18/100\n",
            "105/107 [============================>.] - ETA: 0s - loss: 0.4441 - mean_absolute_error: 0.4441\n",
            "Epoch 18: val_loss did not improve from 0.42055\n",
            "107/107 [==============================] - 1s 5ms/step - loss: 0.4425 - mean_absolute_error: 0.4425 - val_loss: 0.5477 - val_mean_absolute_error: 0.5477\n",
            "Epoch 19/100\n",
            "103/107 [===========================>..] - ETA: 0s - loss: 0.4388 - mean_absolute_error: 0.4388\n",
            "Epoch 19: val_loss did not improve from 0.42055\n",
            "107/107 [==============================] - 1s 5ms/step - loss: 0.4364 - mean_absolute_error: 0.4364 - val_loss: 0.4638 - val_mean_absolute_error: 0.4638\n",
            "Epoch 20/100\n",
            " 98/107 [==========================>...] - ETA: 0s - loss: 0.4623 - mean_absolute_error: 0.4623\n",
            "Epoch 20: val_loss improved from 0.42055 to 0.42047, saving model to Best_model.hdf5\n",
            "107/107 [==============================] - 1s 5ms/step - loss: 0.4604 - mean_absolute_error: 0.4604 - val_loss: 0.4205 - val_mean_absolute_error: 0.4205\n",
            "Epoch 21/100\n",
            " 99/107 [==========================>...] - ETA: 0s - loss: 0.4441 - mean_absolute_error: 0.4441\n",
            "Epoch 21: val_loss did not improve from 0.42047\n",
            "107/107 [==============================] - 1s 5ms/step - loss: 0.4416 - mean_absolute_error: 0.4416 - val_loss: 0.4436 - val_mean_absolute_error: 0.4436\n",
            "Epoch 22/100\n",
            "101/107 [===========================>..] - ETA: 0s - loss: 0.4400 - mean_absolute_error: 0.4400\n",
            "Epoch 22: val_loss did not improve from 0.42047\n",
            "107/107 [==============================] - 1s 5ms/step - loss: 0.4389 - mean_absolute_error: 0.4389 - val_loss: 0.4688 - val_mean_absolute_error: 0.4688\n",
            "Epoch 23/100\n",
            "101/107 [===========================>..] - ETA: 0s - loss: 0.4292 - mean_absolute_error: 0.4292\n",
            "Epoch 23: val_loss did not improve from 0.42047\n",
            "107/107 [==============================] - 1s 5ms/step - loss: 0.4354 - mean_absolute_error: 0.4354 - val_loss: 0.4633 - val_mean_absolute_error: 0.4633\n",
            "Epoch 24/100\n",
            "100/107 [===========================>..] - ETA: 0s - loss: 0.4321 - mean_absolute_error: 0.4321\n",
            "Epoch 24: val_loss improved from 0.42047 to 0.41682, saving model to Best_model.hdf5\n",
            "107/107 [==============================] - 1s 6ms/step - loss: 0.4326 - mean_absolute_error: 0.4326 - val_loss: 0.4168 - val_mean_absolute_error: 0.4168\n",
            "Epoch 25/100\n",
            "103/107 [===========================>..] - ETA: 0s - loss: 0.4434 - mean_absolute_error: 0.4434\n",
            "Epoch 25: val_loss did not improve from 0.41682\n",
            "107/107 [==============================] - 1s 5ms/step - loss: 0.4454 - mean_absolute_error: 0.4454 - val_loss: 0.4841 - val_mean_absolute_error: 0.4841\n",
            "Epoch 26/100\n",
            "103/107 [===========================>..] - ETA: 0s - loss: 0.4178 - mean_absolute_error: 0.4178\n",
            "Epoch 26: val_loss did not improve from 0.41682\n",
            "107/107 [==============================] - 1s 5ms/step - loss: 0.4170 - mean_absolute_error: 0.4170 - val_loss: 0.5737 - val_mean_absolute_error: 0.5737\n",
            "Epoch 27/100\n",
            "107/107 [==============================] - ETA: 0s - loss: 0.4379 - mean_absolute_error: 0.4379\n",
            "Epoch 27: val_loss did not improve from 0.41682\n",
            "107/107 [==============================] - 1s 5ms/step - loss: 0.4379 - mean_absolute_error: 0.4379 - val_loss: 0.4522 - val_mean_absolute_error: 0.4522\n",
            "Epoch 28/100\n",
            "101/107 [===========================>..] - ETA: 0s - loss: 0.4237 - mean_absolute_error: 0.4237\n",
            "Epoch 28: val_loss did not improve from 0.41682\n",
            "107/107 [==============================] - 1s 5ms/step - loss: 0.4225 - mean_absolute_error: 0.4225 - val_loss: 0.4170 - val_mean_absolute_error: 0.4170\n",
            "Epoch 29/100\n",
            "103/107 [===========================>..] - ETA: 0s - loss: 0.4419 - mean_absolute_error: 0.4419\n",
            "Epoch 29: val_loss improved from 0.41682 to 0.41556, saving model to Best_model.hdf5\n",
            "107/107 [==============================] - 1s 6ms/step - loss: 0.4407 - mean_absolute_error: 0.4407 - val_loss: 0.4156 - val_mean_absolute_error: 0.4156\n",
            "Epoch 30/100\n",
            "101/107 [===========================>..] - ETA: 0s - loss: 0.4288 - mean_absolute_error: 0.4288\n",
            "Epoch 30: val_loss did not improve from 0.41556\n",
            "107/107 [==============================] - 1s 5ms/step - loss: 0.4281 - mean_absolute_error: 0.4281 - val_loss: 0.4914 - val_mean_absolute_error: 0.4914\n",
            "Epoch 31/100\n",
            "105/107 [============================>.] - ETA: 0s - loss: 0.4334 - mean_absolute_error: 0.4334\n",
            "Epoch 31: val_loss did not improve from 0.41556\n",
            "107/107 [==============================] - 1s 6ms/step - loss: 0.4323 - mean_absolute_error: 0.4323 - val_loss: 0.5338 - val_mean_absolute_error: 0.5338\n",
            "Epoch 32/100\n",
            "101/107 [===========================>..] - ETA: 0s - loss: 0.4515 - mean_absolute_error: 0.4515\n",
            "Epoch 32: val_loss did not improve from 0.41556\n",
            "107/107 [==============================] - 1s 5ms/step - loss: 0.4510 - mean_absolute_error: 0.4510 - val_loss: 0.4172 - val_mean_absolute_error: 0.4172\n",
            "Epoch 33/100\n",
            " 99/107 [==========================>...] - ETA: 0s - loss: 0.4228 - mean_absolute_error: 0.4228\n",
            "Epoch 33: val_loss did not improve from 0.41556\n",
            "107/107 [==============================] - 1s 6ms/step - loss: 0.4228 - mean_absolute_error: 0.4228 - val_loss: 0.4449 - val_mean_absolute_error: 0.4449\n",
            "Epoch 34/100\n",
            " 99/107 [==========================>...] - ETA: 0s - loss: 0.4218 - mean_absolute_error: 0.4218\n",
            "Epoch 34: val_loss improved from 0.41556 to 0.41314, saving model to Best_model.hdf5\n",
            "107/107 [==============================] - 1s 6ms/step - loss: 0.4199 - mean_absolute_error: 0.4199 - val_loss: 0.4131 - val_mean_absolute_error: 0.4131\n",
            "Epoch 35/100\n",
            "102/107 [===========================>..] - ETA: 0s - loss: 0.4099 - mean_absolute_error: 0.4099\n",
            "Epoch 35: val_loss did not improve from 0.41314\n",
            "107/107 [==============================] - 1s 6ms/step - loss: 0.4114 - mean_absolute_error: 0.4114 - val_loss: 0.4501 - val_mean_absolute_error: 0.4501\n",
            "Epoch 36/100\n",
            "107/107 [==============================] - ETA: 0s - loss: 0.4221 - mean_absolute_error: 0.4221\n",
            "Epoch 36: val_loss did not improve from 0.41314\n",
            "107/107 [==============================] - 1s 5ms/step - loss: 0.4221 - mean_absolute_error: 0.4221 - val_loss: 0.5127 - val_mean_absolute_error: 0.5127\n",
            "Epoch 37/100\n",
            "106/107 [============================>.] - ETA: 0s - loss: 0.4233 - mean_absolute_error: 0.4233\n",
            "Epoch 37: val_loss did not improve from 0.41314\n",
            "107/107 [==============================] - 1s 5ms/step - loss: 0.4232 - mean_absolute_error: 0.4232 - val_loss: 0.4301 - val_mean_absolute_error: 0.4301\n",
            "Epoch 38/100\n",
            "106/107 [============================>.] - ETA: 0s - loss: 0.4322 - mean_absolute_error: 0.4322\n",
            "Epoch 38: val_loss did not improve from 0.41314\n",
            "107/107 [==============================] - 1s 5ms/step - loss: 0.4320 - mean_absolute_error: 0.4320 - val_loss: 0.4224 - val_mean_absolute_error: 0.4224\n",
            "Epoch 39/100\n",
            "100/107 [===========================>..] - ETA: 0s - loss: 0.4366 - mean_absolute_error: 0.4366\n",
            "Epoch 39: val_loss did not improve from 0.41314\n",
            "107/107 [==============================] - 1s 5ms/step - loss: 0.4365 - mean_absolute_error: 0.4365 - val_loss: 0.4939 - val_mean_absolute_error: 0.4939\n",
            "Epoch 40/100\n",
            "101/107 [===========================>..] - ETA: 0s - loss: 0.4470 - mean_absolute_error: 0.4470\n",
            "Epoch 40: val_loss did not improve from 0.41314\n",
            "107/107 [==============================] - 1s 6ms/step - loss: 0.4488 - mean_absolute_error: 0.4488 - val_loss: 0.5190 - val_mean_absolute_error: 0.5190\n",
            "Epoch 41/100\n",
            " 99/107 [==========================>...] - ETA: 0s - loss: 0.4320 - mean_absolute_error: 0.4320\n",
            "Epoch 41: val_loss did not improve from 0.41314\n",
            "107/107 [==============================] - 1s 6ms/step - loss: 0.4338 - mean_absolute_error: 0.4338 - val_loss: 0.4466 - val_mean_absolute_error: 0.4466\n",
            "Epoch 42/100\n",
            " 99/107 [==========================>...] - ETA: 0s - loss: 0.4256 - mean_absolute_error: 0.4256\n",
            "Epoch 42: val_loss did not improve from 0.41314\n",
            "107/107 [==============================] - 1s 6ms/step - loss: 0.4254 - mean_absolute_error: 0.4254 - val_loss: 0.4238 - val_mean_absolute_error: 0.4238\n",
            "Epoch 43/100\n",
            "104/107 [============================>.] - ETA: 0s - loss: 0.4355 - mean_absolute_error: 0.4355\n",
            "Epoch 43: val_loss did not improve from 0.41314\n",
            "107/107 [==============================] - 1s 6ms/step - loss: 0.4350 - mean_absolute_error: 0.4350 - val_loss: 0.4208 - val_mean_absolute_error: 0.4208\n",
            "Epoch 44/100\n",
            " 97/107 [==========================>...] - ETA: 0s - loss: 0.4308 - mean_absolute_error: 0.4308\n",
            "Epoch 44: val_loss did not improve from 0.41314\n",
            "107/107 [==============================] - 1s 6ms/step - loss: 0.4286 - mean_absolute_error: 0.4286 - val_loss: 0.4146 - val_mean_absolute_error: 0.4146\n",
            "Epoch 45/100\n",
            "103/107 [===========================>..] - ETA: 0s - loss: 0.4171 - mean_absolute_error: 0.4171\n",
            "Epoch 45: val_loss did not improve from 0.41314\n",
            "107/107 [==============================] - 1s 5ms/step - loss: 0.4201 - mean_absolute_error: 0.4201 - val_loss: 0.4557 - val_mean_absolute_error: 0.4557\n",
            "Epoch 46/100\n",
            "106/107 [============================>.] - ETA: 0s - loss: 0.4075 - mean_absolute_error: 0.4075\n",
            "Epoch 46: val_loss did not improve from 0.41314\n",
            "107/107 [==============================] - 1s 6ms/step - loss: 0.4075 - mean_absolute_error: 0.4075 - val_loss: 0.4227 - val_mean_absolute_error: 0.4227\n",
            "Epoch 47/100\n",
            "105/107 [============================>.] - ETA: 0s - loss: 0.4255 - mean_absolute_error: 0.4255\n",
            "Epoch 47: val_loss did not improve from 0.41314\n",
            "107/107 [==============================] - 1s 6ms/step - loss: 0.4262 - mean_absolute_error: 0.4262 - val_loss: 0.4957 - val_mean_absolute_error: 0.4957\n",
            "Epoch 48/100\n",
            "106/107 [============================>.] - ETA: 0s - loss: 0.4398 - mean_absolute_error: 0.4398\n",
            "Epoch 48: val_loss did not improve from 0.41314\n",
            "107/107 [==============================] - 1s 6ms/step - loss: 0.4395 - mean_absolute_error: 0.4395 - val_loss: 0.4779 - val_mean_absolute_error: 0.4779\n",
            "Epoch 49/100\n",
            "100/107 [===========================>..] - ETA: 0s - loss: 0.4259 - mean_absolute_error: 0.4259\n",
            "Epoch 49: val_loss did not improve from 0.41314\n",
            "107/107 [==============================] - 1s 6ms/step - loss: 0.4251 - mean_absolute_error: 0.4251 - val_loss: 0.4224 - val_mean_absolute_error: 0.4224\n",
            "Epoch 50/100\n",
            "106/107 [============================>.] - ETA: 0s - loss: 0.4054 - mean_absolute_error: 0.4054\n",
            "Epoch 50: val_loss did not improve from 0.41314\n",
            "107/107 [==============================] - 1s 6ms/step - loss: 0.4061 - mean_absolute_error: 0.4061 - val_loss: 0.4194 - val_mean_absolute_error: 0.4194\n",
            "Epoch 51/100\n",
            " 99/107 [==========================>...] - ETA: 0s - loss: 0.4257 - mean_absolute_error: 0.4257\n",
            "Epoch 51: val_loss improved from 0.41314 to 0.41287, saving model to Best_model.hdf5\n",
            "107/107 [==============================] - 1s 6ms/step - loss: 0.4276 - mean_absolute_error: 0.4276 - val_loss: 0.4129 - val_mean_absolute_error: 0.4129\n",
            "Epoch 52/100\n",
            " 98/107 [==========================>...] - ETA: 0s - loss: 0.4132 - mean_absolute_error: 0.4132\n",
            "Epoch 52: val_loss did not improve from 0.41287\n",
            "107/107 [==============================] - 1s 5ms/step - loss: 0.4144 - mean_absolute_error: 0.4144 - val_loss: 0.4144 - val_mean_absolute_error: 0.4144\n",
            "Epoch 53/100\n",
            "105/107 [============================>.] - ETA: 0s - loss: 0.4313 - mean_absolute_error: 0.4313\n",
            "Epoch 53: val_loss did not improve from 0.41287\n",
            "107/107 [==============================] - 1s 6ms/step - loss: 0.4331 - mean_absolute_error: 0.4331 - val_loss: 0.5009 - val_mean_absolute_error: 0.5009\n",
            "Epoch 54/100\n",
            " 97/107 [==========================>...] - ETA: 0s - loss: 0.4192 - mean_absolute_error: 0.4192\n",
            "Epoch 54: val_loss did not improve from 0.41287\n",
            "107/107 [==============================] - 1s 5ms/step - loss: 0.4201 - mean_absolute_error: 0.4201 - val_loss: 0.5370 - val_mean_absolute_error: 0.5370\n",
            "Epoch 55/100\n",
            "107/107 [==============================] - ETA: 0s - loss: 0.4336 - mean_absolute_error: 0.4336\n",
            "Epoch 55: val_loss did not improve from 0.41287\n",
            "107/107 [==============================] - 1s 5ms/step - loss: 0.4336 - mean_absolute_error: 0.4336 - val_loss: 0.5198 - val_mean_absolute_error: 0.5198\n",
            "Epoch 56/100\n",
            "107/107 [==============================] - ETA: 0s - loss: 0.4387 - mean_absolute_error: 0.4387\n",
            "Epoch 56: val_loss did not improve from 0.41287\n",
            "107/107 [==============================] - 1s 5ms/step - loss: 0.4387 - mean_absolute_error: 0.4387 - val_loss: 0.4348 - val_mean_absolute_error: 0.4348\n",
            "Epoch 57/100\n",
            "103/107 [===========================>..] - ETA: 0s - loss: 0.4263 - mean_absolute_error: 0.4263\n",
            "Epoch 57: val_loss did not improve from 0.41287\n",
            "107/107 [==============================] - 1s 5ms/step - loss: 0.4264 - mean_absolute_error: 0.4264 - val_loss: 0.4490 - val_mean_absolute_error: 0.4490\n",
            "Epoch 58/100\n",
            "101/107 [===========================>..] - ETA: 0s - loss: 0.4322 - mean_absolute_error: 0.4322\n",
            "Epoch 58: val_loss did not improve from 0.41287\n",
            "107/107 [==============================] - 1s 6ms/step - loss: 0.4331 - mean_absolute_error: 0.4331 - val_loss: 0.4159 - val_mean_absolute_error: 0.4159\n",
            "Epoch 59/100\n",
            " 98/107 [==========================>...] - ETA: 0s - loss: 0.4337 - mean_absolute_error: 0.4337\n",
            "Epoch 59: val_loss did not improve from 0.41287\n",
            "107/107 [==============================] - 1s 6ms/step - loss: 0.4298 - mean_absolute_error: 0.4298 - val_loss: 0.4258 - val_mean_absolute_error: 0.4258\n",
            "Epoch 60/100\n",
            "103/107 [===========================>..] - ETA: 0s - loss: 0.4115 - mean_absolute_error: 0.4115\n",
            "Epoch 60: val_loss did not improve from 0.41287\n",
            "107/107 [==============================] - 1s 6ms/step - loss: 0.4139 - mean_absolute_error: 0.4139 - val_loss: 0.4279 - val_mean_absolute_error: 0.4279\n",
            "Epoch 61/100\n",
            " 99/107 [==========================>...] - ETA: 0s - loss: 0.4125 - mean_absolute_error: 0.4125\n",
            "Epoch 61: val_loss did not improve from 0.41287\n",
            "107/107 [==============================] - 1s 6ms/step - loss: 0.4101 - mean_absolute_error: 0.4101 - val_loss: 0.4185 - val_mean_absolute_error: 0.4185\n",
            "Epoch 62/100\n",
            "105/107 [============================>.] - ETA: 0s - loss: 0.4091 - mean_absolute_error: 0.4091\n",
            "Epoch 62: val_loss did not improve from 0.41287\n",
            "107/107 [==============================] - 1s 6ms/step - loss: 0.4099 - mean_absolute_error: 0.4099 - val_loss: 0.4333 - val_mean_absolute_error: 0.4333\n",
            "Epoch 63/100\n",
            "102/107 [===========================>..] - ETA: 0s - loss: 0.4203 - mean_absolute_error: 0.4203\n",
            "Epoch 63: val_loss did not improve from 0.41287\n",
            "107/107 [==============================] - 1s 6ms/step - loss: 0.4204 - mean_absolute_error: 0.4204 - val_loss: 0.4175 - val_mean_absolute_error: 0.4175\n",
            "Epoch 64/100\n",
            "104/107 [============================>.] - ETA: 0s - loss: 0.4179 - mean_absolute_error: 0.4179\n",
            "Epoch 64: val_loss did not improve from 0.41287\n",
            "107/107 [==============================] - 1s 6ms/step - loss: 0.4172 - mean_absolute_error: 0.4172 - val_loss: 0.4397 - val_mean_absolute_error: 0.4397\n",
            "Epoch 65/100\n",
            "106/107 [============================>.] - ETA: 0s - loss: 0.4302 - mean_absolute_error: 0.4302\n",
            "Epoch 65: val_loss did not improve from 0.41287\n",
            "107/107 [==============================] - 1s 6ms/step - loss: 0.4298 - mean_absolute_error: 0.4298 - val_loss: 0.4137 - val_mean_absolute_error: 0.4137\n",
            "Epoch 66/100\n",
            " 99/107 [==========================>...] - ETA: 0s - loss: 0.4206 - mean_absolute_error: 0.4206\n",
            "Epoch 66: val_loss did not improve from 0.41287\n",
            "107/107 [==============================] - 1s 6ms/step - loss: 0.4219 - mean_absolute_error: 0.4219 - val_loss: 0.4293 - val_mean_absolute_error: 0.4293\n",
            "Epoch 67/100\n",
            "106/107 [============================>.] - ETA: 0s - loss: 0.4195 - mean_absolute_error: 0.4195\n",
            "Epoch 67: val_loss did not improve from 0.41287\n",
            "107/107 [==============================] - 1s 6ms/step - loss: 0.4188 - mean_absolute_error: 0.4188 - val_loss: 0.4466 - val_mean_absolute_error: 0.4466\n",
            "Epoch 68/100\n",
            "100/107 [===========================>..] - ETA: 0s - loss: 0.4282 - mean_absolute_error: 0.4282\n",
            "Epoch 68: val_loss did not improve from 0.41287\n",
            "107/107 [==============================] - 1s 6ms/step - loss: 0.4278 - mean_absolute_error: 0.4278 - val_loss: 0.4194 - val_mean_absolute_error: 0.4194\n",
            "Epoch 69/100\n",
            "104/107 [============================>.] - ETA: 0s - loss: 0.4140 - mean_absolute_error: 0.4140\n",
            "Epoch 69: val_loss did not improve from 0.41287\n",
            "107/107 [==============================] - 1s 6ms/step - loss: 0.4137 - mean_absolute_error: 0.4137 - val_loss: 0.4181 - val_mean_absolute_error: 0.4181\n",
            "Epoch 70/100\n",
            "107/107 [==============================] - ETA: 0s - loss: 0.4061 - mean_absolute_error: 0.4061\n",
            "Epoch 70: val_loss did not improve from 0.41287\n",
            "107/107 [==============================] - 1s 6ms/step - loss: 0.4061 - mean_absolute_error: 0.4061 - val_loss: 0.4335 - val_mean_absolute_error: 0.4335\n",
            "Epoch 71/100\n",
            "100/107 [===========================>..] - ETA: 0s - loss: 0.4129 - mean_absolute_error: 0.4129\n",
            "Epoch 71: val_loss did not improve from 0.41287\n",
            "107/107 [==============================] - 1s 6ms/step - loss: 0.4229 - mean_absolute_error: 0.4229 - val_loss: 0.4531 - val_mean_absolute_error: 0.4531\n",
            "Epoch 72/100\n",
            "101/107 [===========================>..] - ETA: 0s - loss: 0.4213 - mean_absolute_error: 0.4213\n",
            "Epoch 72: val_loss did not improve from 0.41287\n",
            "107/107 [==============================] - 1s 6ms/step - loss: 0.4220 - mean_absolute_error: 0.4220 - val_loss: 0.5110 - val_mean_absolute_error: 0.5110\n",
            "Epoch 73/100\n",
            " 96/107 [=========================>....] - ETA: 0s - loss: 0.4189 - mean_absolute_error: 0.4189\n",
            "Epoch 73: val_loss did not improve from 0.41287\n",
            "107/107 [==============================] - 1s 6ms/step - loss: 0.4184 - mean_absolute_error: 0.4184 - val_loss: 0.4433 - val_mean_absolute_error: 0.4433\n",
            "Epoch 74/100\n",
            "103/107 [===========================>..] - ETA: 0s - loss: 0.4202 - mean_absolute_error: 0.4202\n",
            "Epoch 74: val_loss did not improve from 0.41287\n",
            "107/107 [==============================] - 1s 6ms/step - loss: 0.4207 - mean_absolute_error: 0.4207 - val_loss: 0.4458 - val_mean_absolute_error: 0.4458\n",
            "Epoch 75/100\n",
            "107/107 [==============================] - ETA: 0s - loss: 0.4187 - mean_absolute_error: 0.4187\n",
            "Epoch 75: val_loss did not improve from 0.41287\n",
            "107/107 [==============================] - 1s 6ms/step - loss: 0.4187 - mean_absolute_error: 0.4187 - val_loss: 0.6155 - val_mean_absolute_error: 0.6155\n",
            "Epoch 76/100\n",
            "107/107 [==============================] - ETA: 0s - loss: 0.4178 - mean_absolute_error: 0.4178\n",
            "Epoch 76: val_loss did not improve from 0.41287\n",
            "107/107 [==============================] - 1s 6ms/step - loss: 0.4178 - mean_absolute_error: 0.4178 - val_loss: 0.4195 - val_mean_absolute_error: 0.4195\n",
            "Epoch 77/100\n",
            "106/107 [============================>.] - ETA: 0s - loss: 0.4224 - mean_absolute_error: 0.4224\n",
            "Epoch 77: val_loss did not improve from 0.41287\n",
            "107/107 [==============================] - 1s 6ms/step - loss: 0.4215 - mean_absolute_error: 0.4215 - val_loss: 0.4764 - val_mean_absolute_error: 0.4764\n",
            "Epoch 78/100\n",
            "107/107 [==============================] - ETA: 0s - loss: 0.4128 - mean_absolute_error: 0.4128\n",
            "Epoch 78: val_loss did not improve from 0.41287\n",
            "107/107 [==============================] - 1s 6ms/step - loss: 0.4128 - mean_absolute_error: 0.4128 - val_loss: 0.4607 - val_mean_absolute_error: 0.4607\n",
            "Epoch 79/100\n",
            "106/107 [============================>.] - ETA: 0s - loss: 0.4288 - mean_absolute_error: 0.4288\n",
            "Epoch 79: val_loss did not improve from 0.41287\n",
            "107/107 [==============================] - 1s 6ms/step - loss: 0.4283 - mean_absolute_error: 0.4283 - val_loss: 0.4614 - val_mean_absolute_error: 0.4614\n",
            "Epoch 80/100\n",
            "102/107 [===========================>..] - ETA: 0s - loss: 0.4230 - mean_absolute_error: 0.4230\n",
            "Epoch 80: val_loss did not improve from 0.41287\n",
            "107/107 [==============================] - 1s 6ms/step - loss: 0.4233 - mean_absolute_error: 0.4233 - val_loss: 0.4218 - val_mean_absolute_error: 0.4218\n",
            "Epoch 81/100\n",
            "104/107 [============================>.] - ETA: 0s - loss: 0.4072 - mean_absolute_error: 0.4072\n",
            "Epoch 81: val_loss did not improve from 0.41287\n",
            "107/107 [==============================] - 1s 6ms/step - loss: 0.4079 - mean_absolute_error: 0.4079 - val_loss: 0.5116 - val_mean_absolute_error: 0.5116\n",
            "Epoch 82/100\n",
            "101/107 [===========================>..] - ETA: 0s - loss: 0.4383 - mean_absolute_error: 0.4383\n",
            "Epoch 82: val_loss did not improve from 0.41287\n",
            "107/107 [==============================] - 1s 6ms/step - loss: 0.4380 - mean_absolute_error: 0.4380 - val_loss: 0.4349 - val_mean_absolute_error: 0.4349\n",
            "Epoch 83/100\n",
            "104/107 [============================>.] - ETA: 0s - loss: 0.3957 - mean_absolute_error: 0.3957\n",
            "Epoch 83: val_loss did not improve from 0.41287\n",
            "107/107 [==============================] - 1s 6ms/step - loss: 0.3970 - mean_absolute_error: 0.3970 - val_loss: 0.4727 - val_mean_absolute_error: 0.4727\n",
            "Epoch 84/100\n",
            " 99/107 [==========================>...] - ETA: 0s - loss: 0.4128 - mean_absolute_error: 0.4128\n",
            "Epoch 84: val_loss did not improve from 0.41287\n",
            "107/107 [==============================] - 1s 6ms/step - loss: 0.4125 - mean_absolute_error: 0.4125 - val_loss: 0.4158 - val_mean_absolute_error: 0.4158\n",
            "Epoch 85/100\n",
            "103/107 [===========================>..] - ETA: 0s - loss: 0.4253 - mean_absolute_error: 0.4253\n",
            "Epoch 85: val_loss did not improve from 0.41287\n",
            "107/107 [==============================] - 1s 5ms/step - loss: 0.4249 - mean_absolute_error: 0.4249 - val_loss: 0.4775 - val_mean_absolute_error: 0.4775\n",
            "Epoch 86/100\n",
            "100/107 [===========================>..] - ETA: 0s - loss: 0.4010 - mean_absolute_error: 0.4010\n",
            "Epoch 86: val_loss did not improve from 0.41287\n",
            "107/107 [==============================] - 1s 6ms/step - loss: 0.4000 - mean_absolute_error: 0.4000 - val_loss: 0.4205 - val_mean_absolute_error: 0.4205\n",
            "Epoch 87/100\n",
            " 97/107 [==========================>...] - ETA: 0s - loss: 0.4105 - mean_absolute_error: 0.4105\n",
            "Epoch 87: val_loss did not improve from 0.41287\n",
            "107/107 [==============================] - 1s 5ms/step - loss: 0.4112 - mean_absolute_error: 0.4112 - val_loss: 0.4727 - val_mean_absolute_error: 0.4727\n",
            "Epoch 88/100\n",
            "104/107 [============================>.] - ETA: 0s - loss: 0.4203 - mean_absolute_error: 0.4203\n",
            "Epoch 88: val_loss did not improve from 0.41287\n",
            "107/107 [==============================] - 1s 6ms/step - loss: 0.4211 - mean_absolute_error: 0.4211 - val_loss: 0.4251 - val_mean_absolute_error: 0.4251\n",
            "Epoch 89/100\n",
            "107/107 [==============================] - ETA: 0s - loss: 0.4042 - mean_absolute_error: 0.4042\n",
            "Epoch 89: val_loss did not improve from 0.41287\n",
            "107/107 [==============================] - 1s 6ms/step - loss: 0.4042 - mean_absolute_error: 0.4042 - val_loss: 0.4187 - val_mean_absolute_error: 0.4187\n",
            "Epoch 90/100\n",
            "107/107 [==============================] - ETA: 0s - loss: 0.4229 - mean_absolute_error: 0.4229\n",
            "Epoch 90: val_loss did not improve from 0.41287\n",
            "107/107 [==============================] - 1s 6ms/step - loss: 0.4229 - mean_absolute_error: 0.4229 - val_loss: 0.4395 - val_mean_absolute_error: 0.4395\n",
            "Epoch 91/100\n",
            "103/107 [===========================>..] - ETA: 0s - loss: 0.4043 - mean_absolute_error: 0.4043\n",
            "Epoch 91: val_loss did not improve from 0.41287\n",
            "107/107 [==============================] - 1s 6ms/step - loss: 0.4041 - mean_absolute_error: 0.4041 - val_loss: 0.4229 - val_mean_absolute_error: 0.4229\n",
            "Epoch 92/100\n",
            "104/107 [============================>.] - ETA: 0s - loss: 0.4007 - mean_absolute_error: 0.4007\n",
            "Epoch 92: val_loss did not improve from 0.41287\n",
            "107/107 [==============================] - 1s 6ms/step - loss: 0.4012 - mean_absolute_error: 0.4012 - val_loss: 0.4188 - val_mean_absolute_error: 0.4188\n",
            "Epoch 93/100\n",
            "106/107 [============================>.] - ETA: 0s - loss: 0.4124 - mean_absolute_error: 0.4124\n",
            "Epoch 93: val_loss did not improve from 0.41287\n",
            "107/107 [==============================] - 1s 6ms/step - loss: 0.4125 - mean_absolute_error: 0.4125 - val_loss: 0.4236 - val_mean_absolute_error: 0.4236\n",
            "Epoch 94/100\n",
            "102/107 [===========================>..] - ETA: 0s - loss: 0.4014 - mean_absolute_error: 0.4014\n",
            "Epoch 94: val_loss improved from 0.41287 to 0.41247, saving model to Best_model.hdf5\n",
            "107/107 [==============================] - 1s 7ms/step - loss: 0.4010 - mean_absolute_error: 0.4010 - val_loss: 0.4125 - val_mean_absolute_error: 0.4125\n",
            "Epoch 95/100\n",
            "104/107 [============================>.] - ETA: 0s - loss: 0.4241 - mean_absolute_error: 0.4241\n",
            "Epoch 95: val_loss did not improve from 0.41247\n",
            "107/107 [==============================] - 1s 6ms/step - loss: 0.4258 - mean_absolute_error: 0.4258 - val_loss: 0.4634 - val_mean_absolute_error: 0.4634\n",
            "Epoch 96/100\n",
            "103/107 [===========================>..] - ETA: 0s - loss: 0.4375 - mean_absolute_error: 0.4375\n",
            "Epoch 96: val_loss did not improve from 0.41247\n",
            "107/107 [==============================] - 1s 6ms/step - loss: 0.4359 - mean_absolute_error: 0.4359 - val_loss: 0.4335 - val_mean_absolute_error: 0.4335\n",
            "Epoch 97/100\n",
            "103/107 [===========================>..] - ETA: 0s - loss: 0.4122 - mean_absolute_error: 0.4122\n",
            "Epoch 97: val_loss did not improve from 0.41247\n",
            "107/107 [==============================] - 1s 6ms/step - loss: 0.4118 - mean_absolute_error: 0.4118 - val_loss: 0.4192 - val_mean_absolute_error: 0.4192\n",
            "Epoch 98/100\n",
            "102/107 [===========================>..] - ETA: 0s - loss: 0.4329 - mean_absolute_error: 0.4329\n",
            "Epoch 98: val_loss did not improve from 0.41247\n",
            "107/107 [==============================] - 1s 6ms/step - loss: 0.4294 - mean_absolute_error: 0.4294 - val_loss: 0.4488 - val_mean_absolute_error: 0.4488\n",
            "Epoch 99/100\n",
            " 97/107 [==========================>...] - ETA: 0s - loss: 0.4096 - mean_absolute_error: 0.4096\n",
            "Epoch 99: val_loss did not improve from 0.41247\n",
            "107/107 [==============================] - 1s 6ms/step - loss: 0.4089 - mean_absolute_error: 0.4089 - val_loss: 0.4175 - val_mean_absolute_error: 0.4175\n",
            "Epoch 100/100\n",
            "106/107 [============================>.] - ETA: 0s - loss: 0.4051 - mean_absolute_error: 0.4051\n",
            "Epoch 100: val_loss did not improve from 0.41247\n",
            "107/107 [==============================] - 1s 6ms/step - loss: 0.4049 - mean_absolute_error: 0.4049 - val_loss: 0.4728 - val_mean_absolute_error: 0.4728\n"
          ]
        },
        {
          "output_type": "execute_result",
          "data": {
            "text/plain": [
              "<keras.callbacks.History at 0x7f11950e8c10>"
            ]
          },
          "metadata": {},
          "execution_count": 56
        }
      ]
    },
    {
      "cell_type": "code",
      "source": [
        "#Load the best model\n",
        "Best_weights = 'Best_model.hdf5' \n",
        "NN_model.load_weights(Best_weights) \n",
        "NN_model.compile(loss='mean_absolute_error', optimizer='adam', metrics=['mean_absolute_error'])"
      ],
      "metadata": {
        "id": "U3WNmOtB4fsa"
      },
      "execution_count": 57,
      "outputs": []
    },
    {
      "cell_type": "code",
      "source": [
        "#Predict the values\n",
        "yhat = NN_model.predict(Xts)"
      ],
      "metadata": {
        "id": "v8crg8sr45rk"
      },
      "execution_count": 58,
      "outputs": []
    },
    {
      "cell_type": "code",
      "source": [
        "MSE_NN=mean_squared_error(yts,yhat)\n",
        "print(\"MSE of Neural Networks :\",MSE_NN)"
      ],
      "metadata": {
        "colab": {
          "base_uri": "https://localhost:8080/"
        },
        "id": "bYO9yEPH5KGW",
        "outputId": "5d3b7f4f-ca43-443a-b6c7-e4793a005200"
      },
      "execution_count": 59,
      "outputs": [
        {
          "output_type": "stream",
          "name": "stdout",
          "text": [
            "MSE of Neural Networks : 0.2840210788153105\n"
          ]
        }
      ]
    },
    {
      "cell_type": "markdown",
      "source": [
        "## XG Boost"
      ],
      "metadata": {
        "id": "bk5mJYihlgiy"
      }
    },
    {
      "cell_type": "code",
      "source": [
        "XGBModel = XGBRegressor()\n",
        "XGBModel.fit(Xtr,ytr , verbose=False)\n",
        "\n",
        "# Get the mean absolute error on the validation data :\n",
        "XGBpredictions = XGBModel.predict(Xts)\n",
        "MSE_XGB=mean_squared_error(yts,XGBpredictions)\n",
        "XG=XGBModel.score(Xtr, ytr)\n",
        "print(\"MSE of XGB :\",MSE_XGB)\n",
        "print(\"R Square score:\",XGBModel.score(Xtr, ytr))"
      ],
      "metadata": {
        "colab": {
          "base_uri": "https://localhost:8080/"
        },
        "id": "XZg-xr_r5igx",
        "outputId": "4d146e17-da73-4b84-d8e4-05c4994a9302"
      },
      "execution_count": 60,
      "outputs": [
        {
          "output_type": "stream",
          "name": "stdout",
          "text": [
            "[01:37:06] WARNING: /workspace/src/objective/regression_obj.cu:152: reg:linear is now deprecated in favor of reg:squarederror.\n",
            "MSE of XGB : 0.2744893327179807\n",
            "R Square score: 0.7693738510457455\n"
          ]
        }
      ]
    },
    {
      "cell_type": "code",
      "source": [
        "models = pd.DataFrame({\n",
        "    'Model': ['Linear Regression','Ridge','Lasso','Random Forest','Decision Tree','Neural Networks','XGB','Extra Trees'],\n",
        "    \n",
        "    'Score': [MSE_L,MSE_R,MSE_LA,MSE_RF,MSE_DT,MSE_NN,MSE_XGB,MSE_ET]\n",
        "    })\n",
        "\n",
        "models.sort_values(by='Score', ascending=True)"
      ],
      "metadata": {
        "colab": {
          "base_uri": "https://localhost:8080/",
          "height": 300
        },
        "id": "kdLWfunxa22W",
        "outputId": "4ea9eac3-e26f-40fd-94ce-98e9de4d14d0"
      },
      "execution_count": 61,
      "outputs": [
        {
          "output_type": "execute_result",
          "data": {
            "text/plain": [
              "               Model     Score\n",
              "6                XGB  0.274489\n",
              "5    Neural Networks  0.284021\n",
              "0  Linear Regression  0.291930\n",
              "1              Ridge  0.292229\n",
              "3      Random Forest  0.303323\n",
              "7        Extra Trees  0.323739\n",
              "4      Decision Tree  0.571025\n",
              "2              Lasso  0.768319"
            ],
            "text/html": [
              "\n",
              "  <div id=\"df-cf616b99-8894-43bf-b7fd-2386b3232e46\">\n",
              "    <div class=\"colab-df-container\">\n",
              "      <div>\n",
              "<style scoped>\n",
              "    .dataframe tbody tr th:only-of-type {\n",
              "        vertical-align: middle;\n",
              "    }\n",
              "\n",
              "    .dataframe tbody tr th {\n",
              "        vertical-align: top;\n",
              "    }\n",
              "\n",
              "    .dataframe thead th {\n",
              "        text-align: right;\n",
              "    }\n",
              "</style>\n",
              "<table border=\"1\" class=\"dataframe\">\n",
              "  <thead>\n",
              "    <tr style=\"text-align: right;\">\n",
              "      <th></th>\n",
              "      <th>Model</th>\n",
              "      <th>Score</th>\n",
              "    </tr>\n",
              "  </thead>\n",
              "  <tbody>\n",
              "    <tr>\n",
              "      <th>6</th>\n",
              "      <td>XGB</td>\n",
              "      <td>0.274489</td>\n",
              "    </tr>\n",
              "    <tr>\n",
              "      <th>5</th>\n",
              "      <td>Neural Networks</td>\n",
              "      <td>0.284021</td>\n",
              "    </tr>\n",
              "    <tr>\n",
              "      <th>0</th>\n",
              "      <td>Linear Regression</td>\n",
              "      <td>0.291930</td>\n",
              "    </tr>\n",
              "    <tr>\n",
              "      <th>1</th>\n",
              "      <td>Ridge</td>\n",
              "      <td>0.292229</td>\n",
              "    </tr>\n",
              "    <tr>\n",
              "      <th>3</th>\n",
              "      <td>Random Forest</td>\n",
              "      <td>0.303323</td>\n",
              "    </tr>\n",
              "    <tr>\n",
              "      <th>7</th>\n",
              "      <td>Extra Trees</td>\n",
              "      <td>0.323739</td>\n",
              "    </tr>\n",
              "    <tr>\n",
              "      <th>4</th>\n",
              "      <td>Decision Tree</td>\n",
              "      <td>0.571025</td>\n",
              "    </tr>\n",
              "    <tr>\n",
              "      <th>2</th>\n",
              "      <td>Lasso</td>\n",
              "      <td>0.768319</td>\n",
              "    </tr>\n",
              "  </tbody>\n",
              "</table>\n",
              "</div>\n",
              "      <button class=\"colab-df-convert\" onclick=\"convertToInteractive('df-cf616b99-8894-43bf-b7fd-2386b3232e46')\"\n",
              "              title=\"Convert this dataframe to an interactive table.\"\n",
              "              style=\"display:none;\">\n",
              "        \n",
              "  <svg xmlns=\"http://www.w3.org/2000/svg\" height=\"24px\"viewBox=\"0 0 24 24\"\n",
              "       width=\"24px\">\n",
              "    <path d=\"M0 0h24v24H0V0z\" fill=\"none\"/>\n",
              "    <path d=\"M18.56 5.44l.94 2.06.94-2.06 2.06-.94-2.06-.94-.94-2.06-.94 2.06-2.06.94zm-11 1L8.5 8.5l.94-2.06 2.06-.94-2.06-.94L8.5 2.5l-.94 2.06-2.06.94zm10 10l.94 2.06.94-2.06 2.06-.94-2.06-.94-.94-2.06-.94 2.06-2.06.94z\"/><path d=\"M17.41 7.96l-1.37-1.37c-.4-.4-.92-.59-1.43-.59-.52 0-1.04.2-1.43.59L10.3 9.45l-7.72 7.72c-.78.78-.78 2.05 0 2.83L4 21.41c.39.39.9.59 1.41.59.51 0 1.02-.2 1.41-.59l7.78-7.78 2.81-2.81c.8-.78.8-2.07 0-2.86zM5.41 20L4 18.59l7.72-7.72 1.47 1.35L5.41 20z\"/>\n",
              "  </svg>\n",
              "      </button>\n",
              "      \n",
              "  <style>\n",
              "    .colab-df-container {\n",
              "      display:flex;\n",
              "      flex-wrap:wrap;\n",
              "      gap: 12px;\n",
              "    }\n",
              "\n",
              "    .colab-df-convert {\n",
              "      background-color: #E8F0FE;\n",
              "      border: none;\n",
              "      border-radius: 50%;\n",
              "      cursor: pointer;\n",
              "      display: none;\n",
              "      fill: #1967D2;\n",
              "      height: 32px;\n",
              "      padding: 0 0 0 0;\n",
              "      width: 32px;\n",
              "    }\n",
              "\n",
              "    .colab-df-convert:hover {\n",
              "      background-color: #E2EBFA;\n",
              "      box-shadow: 0px 1px 2px rgba(60, 64, 67, 0.3), 0px 1px 3px 1px rgba(60, 64, 67, 0.15);\n",
              "      fill: #174EA6;\n",
              "    }\n",
              "\n",
              "    [theme=dark] .colab-df-convert {\n",
              "      background-color: #3B4455;\n",
              "      fill: #D2E3FC;\n",
              "    }\n",
              "\n",
              "    [theme=dark] .colab-df-convert:hover {\n",
              "      background-color: #434B5C;\n",
              "      box-shadow: 0px 1px 3px 1px rgba(0, 0, 0, 0.15);\n",
              "      filter: drop-shadow(0px 1px 2px rgba(0, 0, 0, 0.3));\n",
              "      fill: #FFFFFF;\n",
              "    }\n",
              "  </style>\n",
              "\n",
              "      <script>\n",
              "        const buttonEl =\n",
              "          document.querySelector('#df-cf616b99-8894-43bf-b7fd-2386b3232e46 button.colab-df-convert');\n",
              "        buttonEl.style.display =\n",
              "          google.colab.kernel.accessAllowed ? 'block' : 'none';\n",
              "\n",
              "        async function convertToInteractive(key) {\n",
              "          const element = document.querySelector('#df-cf616b99-8894-43bf-b7fd-2386b3232e46');\n",
              "          const dataTable =\n",
              "            await google.colab.kernel.invokeFunction('convertToInteractive',\n",
              "                                                     [key], {});\n",
              "          if (!dataTable) return;\n",
              "\n",
              "          const docLinkHtml = 'Like what you see? Visit the ' +\n",
              "            '<a target=\"_blank\" href=https://colab.research.google.com/notebooks/data_table.ipynb>data table notebook</a>'\n",
              "            + ' to learn more about interactive tables.';\n",
              "          element.innerHTML = '';\n",
              "          dataTable['output_type'] = 'display_data';\n",
              "          await google.colab.output.renderOutput(dataTable, element);\n",
              "          const docLink = document.createElement('div');\n",
              "          docLink.innerHTML = docLinkHtml;\n",
              "          element.appendChild(docLink);\n",
              "        }\n",
              "      </script>\n",
              "    </div>\n",
              "  </div>\n",
              "  "
            ]
          },
          "metadata": {},
          "execution_count": 61
        }
      ]
    },
    {
      "cell_type": "code",
      "source": [
        "models = pd.DataFrame({\n",
        "    'Model': ['Linear Regression','Random Forest','Decision Tree','XGB','Extra Trees'],\n",
        "    \n",
        "    'R Square Score': [LR,RF,DT,XG,ET]\n",
        "    })\n",
        "\n",
        "models.sort_values(by='R Square Score', ascending=True)"
      ],
      "metadata": {
        "colab": {
          "base_uri": "https://localhost:8080/",
          "height": 206
        },
        "id": "QJOGyMELwDq9",
        "outputId": "0e9bbaf4-c6bc-45a3-b5ea-5ed260321534"
      },
      "execution_count": 63,
      "outputs": [
        {
          "output_type": "execute_result",
          "data": {
            "text/plain": [
              "               Model  R Square Score\n",
              "0  Linear Regression        0.720182\n",
              "3                XGB        0.769374\n",
              "1      Random Forest        0.958994\n",
              "2      Decision Tree        1.000000\n",
              "4        Extra Trees        1.000000"
            ],
            "text/html": [
              "\n",
              "  <div id=\"df-e3d0c25e-fc0c-4b3d-b00e-bbdc7dae957f\">\n",
              "    <div class=\"colab-df-container\">\n",
              "      <div>\n",
              "<style scoped>\n",
              "    .dataframe tbody tr th:only-of-type {\n",
              "        vertical-align: middle;\n",
              "    }\n",
              "\n",
              "    .dataframe tbody tr th {\n",
              "        vertical-align: top;\n",
              "    }\n",
              "\n",
              "    .dataframe thead th {\n",
              "        text-align: right;\n",
              "    }\n",
              "</style>\n",
              "<table border=\"1\" class=\"dataframe\">\n",
              "  <thead>\n",
              "    <tr style=\"text-align: right;\">\n",
              "      <th></th>\n",
              "      <th>Model</th>\n",
              "      <th>R Square Score</th>\n",
              "    </tr>\n",
              "  </thead>\n",
              "  <tbody>\n",
              "    <tr>\n",
              "      <th>0</th>\n",
              "      <td>Linear Regression</td>\n",
              "      <td>0.720182</td>\n",
              "    </tr>\n",
              "    <tr>\n",
              "      <th>3</th>\n",
              "      <td>XGB</td>\n",
              "      <td>0.769374</td>\n",
              "    </tr>\n",
              "    <tr>\n",
              "      <th>1</th>\n",
              "      <td>Random Forest</td>\n",
              "      <td>0.958994</td>\n",
              "    </tr>\n",
              "    <tr>\n",
              "      <th>2</th>\n",
              "      <td>Decision Tree</td>\n",
              "      <td>1.000000</td>\n",
              "    </tr>\n",
              "    <tr>\n",
              "      <th>4</th>\n",
              "      <td>Extra Trees</td>\n",
              "      <td>1.000000</td>\n",
              "    </tr>\n",
              "  </tbody>\n",
              "</table>\n",
              "</div>\n",
              "      <button class=\"colab-df-convert\" onclick=\"convertToInteractive('df-e3d0c25e-fc0c-4b3d-b00e-bbdc7dae957f')\"\n",
              "              title=\"Convert this dataframe to an interactive table.\"\n",
              "              style=\"display:none;\">\n",
              "        \n",
              "  <svg xmlns=\"http://www.w3.org/2000/svg\" height=\"24px\"viewBox=\"0 0 24 24\"\n",
              "       width=\"24px\">\n",
              "    <path d=\"M0 0h24v24H0V0z\" fill=\"none\"/>\n",
              "    <path d=\"M18.56 5.44l.94 2.06.94-2.06 2.06-.94-2.06-.94-.94-2.06-.94 2.06-2.06.94zm-11 1L8.5 8.5l.94-2.06 2.06-.94-2.06-.94L8.5 2.5l-.94 2.06-2.06.94zm10 10l.94 2.06.94-2.06 2.06-.94-2.06-.94-.94-2.06-.94 2.06-2.06.94z\"/><path d=\"M17.41 7.96l-1.37-1.37c-.4-.4-.92-.59-1.43-.59-.52 0-1.04.2-1.43.59L10.3 9.45l-7.72 7.72c-.78.78-.78 2.05 0 2.83L4 21.41c.39.39.9.59 1.41.59.51 0 1.02-.2 1.41-.59l7.78-7.78 2.81-2.81c.8-.78.8-2.07 0-2.86zM5.41 20L4 18.59l7.72-7.72 1.47 1.35L5.41 20z\"/>\n",
              "  </svg>\n",
              "      </button>\n",
              "      \n",
              "  <style>\n",
              "    .colab-df-container {\n",
              "      display:flex;\n",
              "      flex-wrap:wrap;\n",
              "      gap: 12px;\n",
              "    }\n",
              "\n",
              "    .colab-df-convert {\n",
              "      background-color: #E8F0FE;\n",
              "      border: none;\n",
              "      border-radius: 50%;\n",
              "      cursor: pointer;\n",
              "      display: none;\n",
              "      fill: #1967D2;\n",
              "      height: 32px;\n",
              "      padding: 0 0 0 0;\n",
              "      width: 32px;\n",
              "    }\n",
              "\n",
              "    .colab-df-convert:hover {\n",
              "      background-color: #E2EBFA;\n",
              "      box-shadow: 0px 1px 2px rgba(60, 64, 67, 0.3), 0px 1px 3px 1px rgba(60, 64, 67, 0.15);\n",
              "      fill: #174EA6;\n",
              "    }\n",
              "\n",
              "    [theme=dark] .colab-df-convert {\n",
              "      background-color: #3B4455;\n",
              "      fill: #D2E3FC;\n",
              "    }\n",
              "\n",
              "    [theme=dark] .colab-df-convert:hover {\n",
              "      background-color: #434B5C;\n",
              "      box-shadow: 0px 1px 3px 1px rgba(0, 0, 0, 0.15);\n",
              "      filter: drop-shadow(0px 1px 2px rgba(0, 0, 0, 0.3));\n",
              "      fill: #FFFFFF;\n",
              "    }\n",
              "  </style>\n",
              "\n",
              "      <script>\n",
              "        const buttonEl =\n",
              "          document.querySelector('#df-e3d0c25e-fc0c-4b3d-b00e-bbdc7dae957f button.colab-df-convert');\n",
              "        buttonEl.style.display =\n",
              "          google.colab.kernel.accessAllowed ? 'block' : 'none';\n",
              "\n",
              "        async function convertToInteractive(key) {\n",
              "          const element = document.querySelector('#df-e3d0c25e-fc0c-4b3d-b00e-bbdc7dae957f');\n",
              "          const dataTable =\n",
              "            await google.colab.kernel.invokeFunction('convertToInteractive',\n",
              "                                                     [key], {});\n",
              "          if (!dataTable) return;\n",
              "\n",
              "          const docLinkHtml = 'Like what you see? Visit the ' +\n",
              "            '<a target=\"_blank\" href=https://colab.research.google.com/notebooks/data_table.ipynb>data table notebook</a>'\n",
              "            + ' to learn more about interactive tables.';\n",
              "          element.innerHTML = '';\n",
              "          dataTable['output_type'] = 'display_data';\n",
              "          await google.colab.output.renderOutput(dataTable, element);\n",
              "          const docLink = document.createElement('div');\n",
              "          docLink.innerHTML = docLinkHtml;\n",
              "          element.appendChild(docLink);\n",
              "        }\n",
              "      </script>\n",
              "    </div>\n",
              "  </div>\n",
              "  "
            ]
          },
          "metadata": {},
          "execution_count": 63
        }
      ]
    },
    {
      "cell_type": "code",
      "source": [
        "# \"---------------------------------------------THE END--------------------------------------\""
      ],
      "metadata": {
        "id": "2x1Ca25ke3_U"
      },
      "execution_count": 64,
      "outputs": []
    }
  ],
  "metadata": {
    "kernelspec": {
      "display_name": "Python 3",
      "language": "python",
      "name": "python3"
    },
    "language_info": {
      "codemirror_mode": {
        "name": "ipython",
        "version": 3
      },
      "file_extension": ".py",
      "mimetype": "text/x-python",
      "name": "python",
      "nbconvert_exporter": "python",
      "pygments_lexer": "ipython3",
      "version": "3.8.3"
    },
    "colab": {
      "name": "Bigmart Sales Prediction_mv2290.ipynb",
      "provenance": [],
      "collapsed_sections": []
    }
  },
  "nbformat": 4,
  "nbformat_minor": 0
}